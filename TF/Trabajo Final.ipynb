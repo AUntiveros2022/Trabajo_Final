{
  "nbformat": 4,
  "nbformat_minor": 0,
  "metadata": {
    "colab": {
      "provenance": [],
      "authorship_tag": "ABX9TyOX+qJpjQ2PFkUu54LyHN4b",
      "include_colab_link": true
    },
    "kernelspec": {
      "name": "python3",
      "display_name": "Python 3"
    },
    "language_info": {
      "name": "python"
    }
  },
  "cells": [
    {
      "cell_type": "markdown",
      "metadata": {
        "id": "view-in-github",
        "colab_type": "text"
      },
      "source": [
        "<a href=\"https://colab.research.google.com/github/AUntiveros2022/Trabajo_Final/blob/main/TF/Trabajo%20Final.ipynb\" target=\"_parent\"><img src=\"https://colab.research.google.com/assets/colab-badge.svg\" alt=\"Open In Colab\"/></a>"
      ]
    },
    {
      "cell_type": "markdown",
      "source": [
        "#Trabajo Final - Python Nivel Básico\n",
        "\n",
        "\n",
        "\n",
        "\n"
      ],
      "metadata": {
        "id": "5Y70g-m6Wg0i"
      }
    },
    {
      "cell_type": "markdown",
      "source": [
        "###Módulo 2"
      ],
      "metadata": {
        "id": "AHmOUb2YXSjG"
      }
    },
    {
      "cell_type": "markdown",
      "source": [
        "####Ejercicio 1\n",
        "\n",
        "Usa una variable para representar un número. Luego, usando esa variable, cree un mensaje que revele su número. Imprime ese mensaje."
      ],
      "metadata": {
        "id": "8me8lnoYXavj"
      }
    },
    {
      "cell_type": "code",
      "source": [
        "# CREAMOS UNA VARIABLE Y LE ASIGNAMOS UN VALOR.\n",
        "a = 10\n",
        "\n",
        "# SE IMPRIMIRÁ UN MENSAJE Y POR MEDIO DEL FORMATO DE CADENA, MOSTRAREMOS EL VALOR GUARDADO EN LA VARIABLE 'a'.\n",
        "print(f\"El número es: {a}\")\n"
      ],
      "metadata": {
        "id": "6DJkaacIXZ4V",
        "outputId": "4a541c00-e563-42b4-bf4d-b4581a7a468c",
        "colab": {
          "base_uri": "https://localhost:8080/"
        }
      },
      "execution_count": null,
      "outputs": [
        {
          "output_type": "stream",
          "name": "stdout",
          "text": [
            "El número es: 10\n"
          ]
        }
      ]
    },
    {
      "cell_type": "markdown",
      "source": [
        "####Ejercicio 2\n",
        "\n",
        "Imagina que un extraterrestre acaba de ser derribado en un juego. Cree una variable llamada alien_color y asígnele un valor de 'verde', 'amarillo' o 'rojo'.\n",
        "\n",
        "Escribe una declaración if para probar si el color del extraterrestre es verde. Si es así, imprime un mensaje de que el jugador acaba de ganar 5 puntos."
      ],
      "metadata": {
        "id": "mF5qm-YVaMIc"
      }
    },
    {
      "cell_type": "code",
      "source": [
        "# CREAMOS UNA LISTA Y EN ELLA GUARDAREMOS ALGUNOS ELEMENTOS.\n",
        "alien_color=['verde','amarillo','rojo']\n",
        "\n",
        "# CREAMOS UNA VARIABLE EN DONDE ALMACENAREMOS EL VALOR QUE INGRESEMOS POR TECLADO.\n",
        "selecciona_color = input('De qué color es el extraterrestre? ')\n",
        "\n",
        "# COMPARAMOS SI EL VALOR DE LA VARIABLE 'selecciona_color' ES 'verde', SE IMPRIMIRÁ EL SIGUIENTE MENSAJE.\n",
        "# alien_color[0] INDICA EN LA LISTA 'alien_color' LA POSICIÓN '0' Y ESTE ES EL ELEMENTO 'verde'.\n",
        "if alien_color[0] == selecciona_color.lower():  \n",
        "  print('El jugador acaba de ganar 5 puntos.')\n",
        "\n",
        "else:\n",
        "  # SI NO HA CUMPLIDO CON LA CONDICIÓN, SE IMPRIMIRÁ EL SIGUIENTE MENSAJE.\n",
        "  print('El jugador no gana ningún punto.')"
      ],
      "metadata": {
        "id": "grUB8pn-Zuht",
        "outputId": "4363eeed-2fbc-4d63-8016-33c50e2758ce",
        "colab": {
          "base_uri": "https://localhost:8080/"
        }
      },
      "execution_count": null,
      "outputs": [
        {
          "output_type": "stream",
          "name": "stdout",
          "text": [
            "De qué color es el extraterrestre? VERDE\n",
            "El jugador acaba de ganar 5 puntos.\n"
          ]
        }
      ]
    },
    {
      "cell_type": "markdown",
      "source": [
        "####Ejercicio 3\n",
        "\n",
        "Elija un color para un extraterrestre como lo hizo en el Ejercicio anterior y escriba una cadena if-else.\n",
        "\n",
        "Si el alienígena es verde, imprime un mensaje de que el jugador obtuvo 5 puntos. Si el alienígena es amarillo, imprime un mensaje de que el jugador obtuvo 10 puntos. Si el alienígena es rojo, imprime un mensaje de que el jugador obtuvo 15 puntos."
      ],
      "metadata": {
        "id": "MT92tdKLb6zQ"
      }
    },
    {
      "cell_type": "code",
      "source": [
        "# CREAMOS UNA LISTA Y EN ELLA GUARDAREMOS ALGUNOS ELEMENTOS.\n",
        "alien_color=['verde','amarillo','rojo']\n",
        "\n",
        "# CREAMOS UNA VARIABLE EN DONDE ALMACENAREMOS EL VALOR QUE INGRESEMOS POR TECLADO.\n",
        "selecciona_color = input('De qué color es el extraterrestre? ')\n",
        "\n",
        "# COMPARAMOS SI EL VALOR DE LA VARIABLE 'selecciona_color' COINCIDE CON ALGÚN ELEMENTO DE LA LISTA.\n",
        "\n",
        "# SI EL VALOR GUARDADO EN LA VARIABLE 'selecciona_color' ES 'verde', SE IMPRIMIRÁ EL SIGUIENTE MENSAJE.\n",
        "# alien_color[0] INDICA EN LA LISTA 'alien_color' LA POSICIÓN '0' Y ESTE ES EL ELEMENTO 'verde'.\n",
        "if alien_color[0] == selecciona_color.lower():\n",
        "  print('El jugador acaba de ganar 5 puntos.')\n",
        "\n",
        "# SI EL VALOR GUARDADO EN LA VARIABLE 'selecciona_color' ES 'amarillo', SE IMPRIMIRÁ EL SIGUIENTE MENSAJE.\n",
        "# alien_color[0] INDICA EN LA LISTA 'alien_color' LA POSICIÓN '1' Y ESTE ES EL ELEMENTO 'amarillo'.\n",
        "elif alien_color[1] == selecciona_color.lower():\n",
        "  print('El jugador acaba de ganar 10 puntos.')\n",
        "\n",
        "# SI EL VALOR GUARDADO EN LA VARIABLE 'selecciona_color' ES 'rojo', SE IMPRIMIRÁ EL SIGUIENTE MENSAJE.\n",
        "# alien_color[0] INDICA EN LA LISTA 'alien_color' LA POSICIÓN '2' Y ESTE ES EL ELEMENTO 'rojo'.\n",
        "elif alien_color[2] == selecciona_color.lower():\n",
        "  print('El jugador acaba de ganar 15 puntos.')\n",
        "\n",
        "# SI NO HA CUMPLIDO CON NINGUNA CONDICIÓN, SE IMPRIMIRÁ EL SIGUIENTE MENSAJE.\n",
        "else:\n",
        "  print('El jugador no gana ningún punto.')"
      ],
      "metadata": {
        "id": "9AeHRZHVbqx1"
      },
      "execution_count": null,
      "outputs": []
    },
    {
      "cell_type": "markdown",
      "source": [
        "####Ejercicio 4\n",
        "\n",
        "Escriba un ciclo que solicite al usuario que ingrese una serie de ingredientes para la pizza hasta que ingrese un valor de 'salir'. A medida que ingresen cada ingrediente, imprima un mensaje que diga que agregará ese ingrediente a su pizza."
      ],
      "metadata": {
        "id": "74nbFONzcRrt"
      }
    },
    {
      "cell_type": "code",
      "source": [
        "# CREAMOS UNA VARIABLE Y LE ASIGNAMOS UN VALOR.\n",
        "# ESTA VARIABLE LO USAREMOS COMO UN CONTADOR EN NUESTRO CICLO WHILE.\n",
        "# ESTE CONTADOR DEFINIRÁ CUANTAS VECES SE EJECUTARÁ EL CICLO WHILE.\n",
        "Contador = 1\n",
        "\n",
        "# USAMOS UN CICLO WHILE QUE ESTARÁ CONTROLADO POR LA VARIABLE CONTADOR.\n",
        "while Contador >= 1:\n",
        "\n",
        "  # CREAMOS UNA VARIABLE EN DONDE ALMACENAREMOS EL VALOR QUE INGRESEMOS POR TECLADO.\n",
        "  Ingrediente = input(\"Ingrese un ingrediente para su pizza: \")\n",
        "\n",
        "  # SI EL VALOR GUARDADO EN LA VARIABLE 'Ingrediente' ES 'salir', SE EJECUTARÁ UN BREAK QUE FINALIZARÁ EL CICLO WHILE.   \n",
        "  if Ingrediente.lower() == \"salir\":\n",
        "    break\n",
        "  \n",
        "  # SI NO HA CUMPLIDO CON LA CONDICIÓN ANTERIOR, SE IMPRIMIRÁ UN MENSAJE Y SE SUMARÁ +1 AL VALOR GUARDADO EN LA VARIABLE CONTADOR.\n",
        "  else:\n",
        "    print(f\"Se agregará '{Ingrediente}' a su pizza.\")\n",
        "    Contador += 1\n",
        "\n",
        "# SI EL CICLO WHILE FINALIZA, SE IMPRIMIRÁ EL SIGUIENTE MENSAJE.\n",
        "print(\"Gracias!, vuelva pronto.\")\n"
      ],
      "metadata": {
        "id": "jP9x-GMFcVQH",
        "outputId": "3eb60538-dd53-4ff8-c2d2-898be2eb2d3a",
        "colab": {
          "base_uri": "https://localhost:8080/"
        }
      },
      "execution_count": null,
      "outputs": [
        {
          "output_type": "stream",
          "name": "stdout",
          "text": [
            "Ingrese un ingrediente para su pizza: QUESO\n",
            "Se agregará 'QUESO' a su pizza.\n",
            "Ingrese un ingrediente para su pizza: TOMATE\n",
            "Se agregará 'TOMATE' a su pizza.\n",
            "Ingrese un ingrediente para su pizza: PEPINILLOS\n",
            "Se agregará 'PEPINILLOS' a su pizza.\n",
            "Ingrese un ingrediente para su pizza: SALIR\n",
            "Gracias!, vuelva pronto.\n"
          ]
        }
      ]
    },
    {
      "cell_type": "markdown",
      "source": [
        "####Ejercicio 5\n",
        "\n",
        "Un cine cobra diferentes precios de boletos dependiendo de la edad de una persona. Si una persona es menor de 3 años, la entrada es gratuita; si son entre 3 y 12, el boleto cuesta s/. 10; y si son mayores de 12 años, el boleto cuesta s/. 15. Escriba un ciclo en el que pregunte a los usuarios su edad y luego dígales el costo de su boleto de cine."
      ],
      "metadata": {
        "id": "gtHbfVhthvsP"
      }
    },
    {
      "cell_type": "code",
      "source": [
        "# CREAMOS UNA VARIABLE Y LE ASIGNAMOS UN VALOR.\n",
        "# ESTA VARIABLE LO USAREMOS COMO UN CONTADOR EN NUESTRO CICLO WHILE.\n",
        "# ESTE CONTADOR DEFINIRÁ CUANTAS VECES SE EJECUTARÁ EL CICLO WHILE.\n",
        "Contador = 1\n",
        "\n",
        "# USAMOS UN CICLO WHILE QUE ESTARÁ CONTROLADO POR LA VARIABLE CONTADOR.\n",
        "while Contador >= 1:\n",
        "\n",
        "  # CREAMOS UNA VARIABLE EN DONDE ALMACENAREMOS EL VALOR QUE INGRESEMOS POR TECLADO. ESTA VARIBLE SOLO ACEPTARÁ NÚMEROS.\n",
        "  Edad = int(input(\"Buen@s días/tardes, ingrese su edad: \"))\n",
        "\n",
        "  # SI EL VALOR GUARDADO EN LA VARIABLE 'Edad' ES '0', SE IMPRIMIRÁ UN MENSAJE Y SE EJECUTARÁ UN BREAK QUE FINALIZARÁ EL CICLO WHILE.\n",
        "  if Edad == 0:\n",
        "    print(\"Gracias!, vuelva pronto.\")\n",
        "    break\n",
        "\n",
        "  # SI EL VALOR GUARDADO EN LA VARIABLE 'Edad' ES '1' O '2' , SE IMPRIMIRÁ UN MENSAJE Y SE SUMARÁ +1 AL VALOR GUARDADO EN LA VARIABLE CONTADOR.\n",
        "  elif Edad > 0 and Edad < 3:\n",
        "    print(\"La entrada al cine es gratuita!.\")\n",
        "    Contador += 1\n",
        "\n",
        "  # SI EL VALOR GUARDADO EN LA VARIABLE 'Edad' ES UN NÚMERO ENTRE '3' Y '12' , SE IMPRIMIRÁ UN MENSAJE Y SE SUMARÁ +1 AL VALOR GUARDADO EN LA VARIABLE CONTADOR.\n",
        "  elif Edad >= 3 and Edad <= 12:\n",
        "    print(\"El costo de la entrada es de 10 soles.\")\n",
        "    Contador += 1\n",
        "\n",
        "  # SI EL VALOR GUARDADO EN LA VARIABLE 'Edad' ES UN NÚMERO ENTRE MAYOR A '12' , SE IMPRIMIRÁ UN MENSAJE Y SE SUMARÁ +1 AL VALOR GUARDADO EN LA VARIABLE CONTADOR.\n",
        "  elif Edad > 12:\n",
        "    print(\"El costo de la entrada es de 15 soles.\")\n",
        "    Contador += 1  \n",
        "\n"
      ],
      "metadata": {
        "id": "Jq3pOdH5hywL",
        "outputId": "61d2c7e5-8c05-421a-8563-d783563b34df",
        "colab": {
          "base_uri": "https://localhost:8080/"
        }
      },
      "execution_count": null,
      "outputs": [
        {
          "output_type": "stream",
          "name": "stdout",
          "text": [
            "Buen@s días/tardes, ingrese su edad: 1\n",
            "La entrada al cine es gratuita!.\n",
            "Buen@s días/tardes, ingrese su edad: 3\n",
            "El costo de la entrada es de 10 soles.\n",
            "Buen@s días/tardes, ingrese su edad: 8\n",
            "El costo de la entrada es de 10 soles.\n",
            "Buen@s días/tardes, ingrese su edad: 70\n",
            "El costo de la entrada es de 15 soles.\n",
            "Buen@s días/tardes, ingrese su edad: 0\n",
            "Gracias!, vuelva pronto.\n"
          ]
        }
      ]
    },
    {
      "cell_type": "markdown",
      "source": [
        "####Ejercicio 6\n",
        "\n",
        "Piensa en al menos tres tipos de tu pizza favorita. Almacene estos nombres de pizza en una lista y luego use un ciclo for para imprimir el nombre de cada pizza.\n",
        "\n",
        "Modifique su ciclo for para imprimir una oración usando el nombre de la pizza en lugar de imprimir solo el nombre de la pizza. Para cada pizza, debe tener una línea de salida que contenga una declaración simple como Me gusta la pizza de pepperoni. Agregue una línea al final de su programa, fuera del bucle for, que indique cuánto le gusta la pizza. El resultado debe constar de tres o más líneas sobre los tipos de pizza que te gustan y luego una oración adicional, como ¡Me encanta la pizza!"
      ],
      "metadata": {
        "id": "YA40SDz9muNn"
      }
    },
    {
      "cell_type": "code",
      "source": [
        "# CREAMOS UNA LISTA Y EN ELLA GUARDAREMOS ALGUNOS ELEMENTOS.\n",
        "tipo_pizza = ['Pizza con Piña','Pizza Americana','Pizza Vegetariana', 'Pizza con Champiñones', 'Pizza Artesanal']\n",
        "\n",
        "# EL BUCLE FOR SE UTILIZA PARA RECORRER LOS ELEMENTOS DE UN OBJETO ITERABLE (LISTA, TUPLA, CONJUNTO, DICCIONARIO, …).\n",
        "# UN ITERABLE ES UN OBJETO QUE SE PUEDE ITERAR SOBRE ÉL, ES DECIR, QUE PERMITE RECORRER SUS ELEMENTOS UNO A UNO.\n",
        "\n",
        "# USAMOS UN BUCLE FOR PARA OBTENER LOS ELEMENTOS DE LA LISTA 'tipo_pizza'.\n",
        "for pizza in tipo_pizza:\n",
        "\n",
        "  # CADA ELEMENTO OBTENIDO SE ALMACENARÁ MOMENTÁNEAMENTE EN 'pizza'.\n",
        "  # SE IMPRIMIRÁ UN MENSAJE Y POR MEDIO DEL FORMATO DE CADENA, MOSTRAREMOS EL ELEMENTO GUARDADO MOMENTÁNEAMENTE EN 'pizza'.\n",
        "  print(f\"La {pizza} es maravillosa.\")\n",
        "  # SE IMPRIMIRÁ UN MENSAJE Y POR MEDIO DEL FORMATO DE CADENA, MOSTRAREMOS EL ELEMENTO GUARDADO MOMENTÁNEAMENTE EN 'pizza'.\n",
        "  print(f\"Me gusta la {pizza}. \\n\")\n",
        "\n",
        "# CUANDO YA TODOS LOS ELEMENTOS DE LA LISTA 'tipo_pizza' HALLAN PASADO POR EL 'for', SE IMPRIMIRÁ EL SIGUIENTE MENSAJE.\n",
        "print(\"¡Me encanta la pizza!\")\n"
      ],
      "metadata": {
        "id": "1K9UnQ9imz_P",
        "outputId": "b98378db-1573-4b8a-eff9-ecbb3bbca60a",
        "colab": {
          "base_uri": "https://localhost:8080/"
        }
      },
      "execution_count": null,
      "outputs": [
        {
          "output_type": "stream",
          "name": "stdout",
          "text": [
            "La Pizza con Piña es maravillosa.\n",
            "Me gusta la Pizza con Piña. \n",
            "\n",
            "La Pizza Americana es maravillosa.\n",
            "Me gusta la Pizza Americana. \n",
            "\n",
            "La Pizza Vegetariana es maravillosa.\n",
            "Me gusta la Pizza Vegetariana. \n",
            "\n",
            "La Pizza con Champiñones es maravillosa.\n",
            "Me gusta la Pizza con Champiñones. \n",
            "\n",
            "La Pizza Artesanal es maravillosa.\n",
            "Me gusta la Pizza Artesanal. \n",
            "\n",
            "¡Me encanta la pizza!\n"
          ]
        }
      ]
    },
    {
      "cell_type": "markdown",
      "source": [
        "####Ejercicio 7\n",
        "\n",
        "Piensa en al menos tres animales diferentes que tengan una característica común. Guarde los nombres de estos animales en una lista y luego use un ciclo for para imprimir el nombre de cada animal.\n",
        "\n",
        "Modifique su programa para imprimir una declaración sobre cada animal, como Un perro sería una gran mascota. Agregue una línea al final de su programa indicando lo que estos animales tienen en común. Podría escribir una oración como ¡Cualquiera de estos animales sería una gran mascota!"
      ],
      "metadata": {
        "id": "TSbdTk4Eulpy"
      }
    },
    {
      "cell_type": "code",
      "source": [
        "# CREAMOS UNA LISTA Y EN ELLA GUARDAREMOS ALGUNOS ELEMENTOS.\n",
        "animales = ['Perro', 'Gato', 'Hamster']\n",
        "\n",
        "# EL BUCLE FOR SE UTILIZA PARA RECORRER LOS ELEMENTOS DE UN OBJETO ITERABLE (LISTA, TUPLA, CONJUNTO, DICCIONARIO, …).\n",
        "# UN ITERABLE ES UN OBJETO QUE SE PUEDE ITERAR SOBRE ÉL, ES DECIR, QUE PERMITE RECORRER SUS ELEMENTOS UNO A UNO.\n",
        "\n",
        "# USAMOS UN BUCLE FOR PARA OBTENER LOS ELEMENTOS DE LA LISTA 'animales'.\n",
        "for mascota in animales:\n",
        "\n",
        "  # CADA ELEMENTO OBTENIDO SE ALMACENARÁ MOMENTÁNEAMENTE EN 'mascota'.\n",
        "  # SE IMPRIMIRÁ UN MENSAJE Y POR MEDIO DEL FORMATO DE CADENA, MOSTRAREMOS EL ELEMENTO GUARDADO MOMENTÁNEAMENTE EN 'mascota'.\n",
        "    print(f\"Un {mascota} sería una mascota como ninguna otra. \\n\")\n",
        "\n",
        "# CUANDO YA TODOS LOS ELEMENTOS DE LA LISTA 'animales' HALLAN PASADO POR EL 'for', SE IMPRIMIRÁ EL SIGUIENTE MENSAJE.\n",
        "print(\"¡Estos animales tiene tanto cariño por demostrar!\")"
      ],
      "metadata": {
        "id": "mKVvnQEwuplf",
        "outputId": "4dde3e9b-ed01-43d6-aab2-85ca3e6ec865",
        "colab": {
          "base_uri": "https://localhost:8080/"
        }
      },
      "execution_count": null,
      "outputs": [
        {
          "output_type": "stream",
          "name": "stdout",
          "text": [
            "Un Perro sería una mascota como ninguna otra. \n",
            "\n",
            "Un Gato sería una mascota como ninguna otra. \n",
            "\n",
            "Un Hamster sería una mascota como ninguna otra. \n",
            "\n",
            "¡Estos animales tiene tanto cariño por demostrar!\n"
          ]
        }
      ]
    },
    {
      "cell_type": "markdown",
      "source": [
        "###Módulo 3"
      ],
      "metadata": {
        "id": "GJThPx8ZyfUB"
      }
    },
    {
      "cell_type": "markdown",
      "source": [
        "####Ejercicio 1\n",
        "\n",
        "Escriba una función llamada display_message() que imprima una oración que diga a todos lo que está aprendiendo en este capítulo. Llame a la función y asegúrese de que el mensaje se muestre correctamente"
      ],
      "metadata": {
        "id": "fpwDlKmyy0LT"
      }
    },
    {
      "cell_type": "code",
      "source": [
        "# DEFINIMOS UNA FUNCIÓN SIN PARÁMETROS. \n",
        "def display_message():\n",
        "\n",
        "  # DESCRIPCIÓN DE LA FUNCIÓN.\n",
        "  \"\"\"Esta función es para imprimir una oración que diga a todos lo que está aprendiendo en este capítulo.\"\"\"\n",
        "\n",
        "  # CUANDO SE EJECUTE LA FUNCIÓN, SE IMPRIMIRÁ EL SIGUIENTE MENSAJE.\n",
        "  print(\"Estamos aprendiendo funciones en Java!!!\")"
      ],
      "metadata": {
        "id": "IkMtwj7Mygsz"
      },
      "execution_count": null,
      "outputs": []
    },
    {
      "cell_type": "code",
      "source": [
        "# EJECUCIÓN DE LA FUNCIÓN display_message().\n",
        "display_message()"
      ],
      "metadata": {
        "id": "reVYzpS-zks7",
        "outputId": "b96a7e9f-0fea-42e2-8194-bf4d0b0ee084",
        "colab": {
          "base_uri": "https://localhost:8080/"
        }
      },
      "execution_count": null,
      "outputs": [
        {
          "output_type": "stream",
          "name": "stdout",
          "text": [
            "Estamos aprendiendo funciones en Java!!!\n"
          ]
        }
      ]
    },
    {
      "cell_type": "markdown",
      "source": [
        "####Ejercicio 2\n",
        "\n",
        "Escriba una función llamada favorite_book() que acepte un parámetro, título. La función debe imprimir un mensaje, como Uno de mis libros favoritos es Alicia en el país de las maravillas. Llame a la función, asegurándose de incluir el título de un libro como argumento en la llamada a la función."
      ],
      "metadata": {
        "id": "etLiegp90Fpf"
      }
    },
    {
      "cell_type": "code",
      "source": [
        "# DEFINIMOS UNA FUNCIÓN CON EL PARÁMETRO 'titulo'. \n",
        "def favorite_book(titulo):\n",
        "\n",
        "  # DESCRIPCIÓN DE LA FUNCIÓN.\n",
        "  \"\"\"Esta función es para incluir el título del libro en un mensaje.\"\"\"\n",
        "\n",
        "  # CUANDO SE EJECUTE LA FUNCIÓN, SE IMPRIMIRÁ EL SIGUIENTE MENSAJE.\n",
        "  print(f'Uno de mis libros favoritos es {titulo}')"
      ],
      "metadata": {
        "id": "awVe-aQf0IQC"
      },
      "execution_count": null,
      "outputs": []
    },
    {
      "cell_type": "code",
      "source": [
        "# EJECUCIÓN DE LA FUNCIÓN 'favorite_book(titulo)'.\n",
        "# EN ESTE CASO USAREMOS UN ARGUMENTO AL LLAMAR A LA FUNCIÓN.\n",
        "favorite_book('El Señor de los Anillos')"
      ],
      "metadata": {
        "id": "OimTXXu41VBa",
        "outputId": "3603bf42-c06f-4c3d-e5b0-5191fd583f6c",
        "colab": {
          "base_uri": "https://localhost:8080/"
        }
      },
      "execution_count": null,
      "outputs": [
        {
          "output_type": "stream",
          "name": "stdout",
          "text": [
            "Uno de mis libros favoritos es El Señor de los Anillos\n"
          ]
        }
      ]
    },
    {
      "cell_type": "markdown",
      "source": [
        "####Ejercicio 3\n",
        "\n",
        "Escribe una función llamada make_shirt() que acepte un tamaño y el texto de un mensaje que debería estar impreso en la camiseta. La función debe imprimir una oración que resuma el tamaño de la camisa y el mensaje impreso en ella.\n",
        "\n",
        "Llame a la función una vez usando argumentos posicionales para hacer una camisa. Llame a la función por segunda vez usando argumentos de palabras clave."
      ],
      "metadata": {
        "id": "6IgPX95K1hEY"
      }
    },
    {
      "cell_type": "code",
      "source": [
        "# DEFINIMOS UNA FUNCIÓN CON LOS PARÁMETROS 'talla' Y 'mensaje'.\n",
        "def make_shirt(talla, mensaje):\n",
        "\n",
        "  # DESCRIPCIÓN DE LA FUNCIÓN.\n",
        "  \"\"\"La función imprime una oración que resume el tamaño de la camiseta y el mensaje impreso en ella.\"\"\"\n",
        "\n",
        "  # CUANDO SE EJECUTE LA FUNCIÓN, SE IMPRIMIRÁ EL SIGUIENTE MENSAJE.\n",
        "  print(f'El tamaño de la camiseta es {talla} y el mensaje será \"{mensaje}\".')"
      ],
      "metadata": {
        "id": "YXnzivTY1v8W"
      },
      "execution_count": null,
      "outputs": []
    },
    {
      "cell_type": "code",
      "source": [
        "# EJECUCIÓN DE LA FUNCIÓN 'make_shirt(talla, mensaje)'.\n",
        "# EN ESTE CASO USAREMOS ARGUMENTOS POSICIONALES AL LLAMAR A LA FUNCIÓN.\n",
        "make_shirt('grande','¡Amo la programación!')"
      ],
      "metadata": {
        "id": "uOqxNeGJ3V2o",
        "outputId": "1cbbec0f-fec7-4af8-b9ff-09e35c530b9a",
        "colab": {
          "base_uri": "https://localhost:8080/"
        }
      },
      "execution_count": null,
      "outputs": [
        {
          "output_type": "stream",
          "name": "stdout",
          "text": [
            "El tamaño de la camiseta es grande y el mensaje será \"¡Amo la programación!\".\n"
          ]
        }
      ]
    },
    {
      "cell_type": "code",
      "source": [
        "# EJECUCIÓN DE LA FUNCIÓN 'make_shirt(talla, mensaje)'.\n",
        "# EN ESTE CASO USAREMOS ARGUMENTOS DE PALABRAS CLAVE AL LLAMAR A LA FUNCIÓN.\n",
        "make_shirt(talla = 'grande', mensaje = '¡Amo la programación!')"
      ],
      "metadata": {
        "id": "3V2Vz9ni4NHE",
        "outputId": "43d9bf1b-4989-4210-84af-b71a765486da",
        "colab": {
          "base_uri": "https://localhost:8080/"
        }
      },
      "execution_count": null,
      "outputs": [
        {
          "output_type": "stream",
          "name": "stdout",
          "text": [
            "El tamaño de la camiseta es grande y el mensaje será \"¡Amo la programación!\".\n"
          ]
        }
      ]
    },
    {
      "cell_type": "markdown",
      "source": [
        "####Ejercicio 4\n",
        "\n",
        "Modifique la función make_shirt() para que las camisetas sean grandes por defecto con un mensaje que diga Me encanta Python. Haz una camiseta grande y una camiseta mediana con el mensaje predeterminado y una camiseta de cualquier tamaño con un mensaje diferente."
      ],
      "metadata": {
        "id": "7Gm7CNYt4zLs"
      }
    },
    {
      "cell_type": "code",
      "source": [
        "# DEFINIMOS UNA FUNCIÓN CON LOS PARÁMETROS 'talla' Y 'mensaje' PERO CON VALORES POR DEFAULT.\n",
        "def make_shirt2(talla = \"grande\", mensaje=\"Me encanta Python\"):\n",
        "\n",
        "  # DESCRIPCIÓN DE LA FUNCIÓN.\n",
        "  \"\"\"La función imprime una oración que resume el tamaño de la camiseta y el mensaje impreso en ella.\"\"\"\n",
        "\n",
        "  # CUANDO SE EJECUTE LA FUNCIÓN, SE IMPRIMIRÁ EL SIGUIENTE MENSAJE.\n",
        "  print(f'El tamaño de la camiseta es {talla} y el mensaje será \"{mensaje}\".')"
      ],
      "metadata": {
        "id": "nPMGLzqS41vM"
      },
      "execution_count": null,
      "outputs": []
    },
    {
      "cell_type": "code",
      "source": [
        "# EJECUCIÓN DE LA FUNCIÓN 'make_shirt2(talla = \"grande\", mensaje=\"Me encanta Python\")'.\n",
        "\n",
        "# EN ESTE CASO USAREMOS LOS VALORES POR DEFAULT AL LLAMAR A LA FUNCIÓN.\n",
        "make_shirt2()\n",
        "\n",
        "# EN ESTE CASO USAREMOS UN ARGUMENTO DE PALABRA CLAVE 'talla' Y EL VALOR POR DEFAULT DEL PARÁMETRO 'mensaje' AL LLAMAR A LA FUNCIÓN.\n",
        "make_shirt2(talla=\"mediano\")\n",
        "\n",
        "# EN ESTE CASO USAREMOS ARGUMENTOS DE PALABRAS CLAVE 'talla' Y 'mensaje' AL LLAMAR A LA FUNCIÓN.\n",
        "make_shirt2(talla=\"pequeño\", mensaje=\"Me encanta Java\")"
      ],
      "metadata": {
        "id": "XsBQYQnUsStp",
        "outputId": "793cc208-e19f-4c9e-bc06-26efc925ef10",
        "colab": {
          "base_uri": "https://localhost:8080/"
        }
      },
      "execution_count": null,
      "outputs": [
        {
          "output_type": "stream",
          "name": "stdout",
          "text": [
            "El tamaño de la camiseta es grande y el mensaje será \"Me encanta Python\".\n",
            "El tamaño de la camiseta es mediano y el mensaje será \"Me encanta Python\".\n",
            "El tamaño de la camiseta es pequeño y el mensaje será \"Me encanta Java\".\n"
          ]
        }
      ]
    },
    {
      "cell_type": "markdown",
      "source": [
        "####Ejercicio 5\n",
        "\n",
        "Escribe una función llamada describe_city() que acepte el nombre de una ciudad y su país. La función debe imprimir una oración simple, como Reykjavik está en Islandia. Asigne al parámetro para el país un valor predeterminado. Llame a su función para tres ciudades diferentes, al menos una de las cuales no se encuentra en el país predeterminado."
      ],
      "metadata": {
        "id": "qygCvmla7guI"
      }
    },
    {
      "cell_type": "code",
      "source": [
        "# DEFINIMOS UNA FUNCIÓN CON LOS PARÁMETROS 'ciudad' Y 'pais' PERO CON VALOR POR DEFAULT EN 'pais'.\n",
        "def describe_city(ciudad, pais=\"Perú\"):\n",
        "\n",
        "  # DESCRIPCIÓN DE LA FUNCIÓN.\n",
        "  \"\"\"La función imprime si ciudad pertenece a país.\"\"\" \n",
        "\n",
        "  # USAMOS UNA CONDICIÓN 'if'\n",
        "  # SI SOLO USAMOS UN ARGUMENTO DE PALABRA CLAVE 'ciudad' Y DEJAMOS EL VALOR POR DEFAULT PARA 'pais', ESTA CONDICIÓN SE ESTARÍA CUMPLIENDO.\n",
        "  # SE IMPRIMIRÁ UN MENSAJE USANDO LOS VALORES DE 'ciudad' Y 'pais'.\n",
        "  if pais==\"Perú\":\n",
        "    print(f\"{ciudad} está en {pais}\")\n",
        "\n",
        "  # SI USAMOS ARGUMENTOS DE PALABRAS CLAVE 'ciudad' Y 'pais', ESTA CONDICIÓN SE ESTARÍA CUMPLIENDO.\n",
        "  # SE IMPRIMIRÁ UN MENSAJE USANDO LOS VALORES DE 'ciudad' Y 'pais'.\n",
        "  elif pais!=\"Perú\":\n",
        "    print(f\"{ciudad} no está en {pais}\")"
      ],
      "metadata": {
        "id": "ljKLrkFW7kUv"
      },
      "execution_count": null,
      "outputs": []
    },
    {
      "cell_type": "code",
      "source": [
        "# EJECUTAMOS LA FUNCIÓN 'describe_city(ciudad, pais=\"Perú\")'.\n",
        "describe_city(ciudad = \"Ayacucho\")\n",
        "describe_city(ciudad = \"Tacna\")\n",
        "describe_city(ciudad = \"Moquegua\", pais=\"Ecuador\")"
      ],
      "metadata": {
        "id": "eDjwnxzyxcVf",
        "outputId": "27a2eae8-1b03-45b9-cbe8-dc56cd4e02c3",
        "colab": {
          "base_uri": "https://localhost:8080/"
        }
      },
      "execution_count": null,
      "outputs": [
        {
          "output_type": "stream",
          "name": "stdout",
          "text": [
            "Ayacucho está en Perú\n",
            "Tacna está en Perú\n",
            "Moquegua no está en Ecuador\n"
          ]
        }
      ]
    },
    {
      "cell_type": "markdown",
      "source": [
        "####Ejercicio 6\n",
        "\n",
        "Escribe una función llamada city_country() que tome el nombre de una ciudad y su país. La función debería devolver una cadena con el formato siguiente:\n",
        "\n",
        "\"Santiago, Chile\"\n",
        "\n",
        "Llame a su función con al menos tres pares de ciudades y países e imprima los valores que se devuelven."
      ],
      "metadata": {
        "id": "8pdBdCcu95Tz"
      }
    },
    {
      "cell_type": "code",
      "source": [
        "# DEFINIMOS UNA FUNCIÓN CON LOS PARÁMETROS 'ciudad' Y 'pais' PERO CON VALOR POR DEFAULT EN 'pais'.\n",
        "def city_country(ciudad, pais):\n",
        "\n",
        "  # DESCRIPCIÓN DE LA FUNCIÓN.\n",
        "   \"\"\"Función que pide el nombre de una ciudad y al país que pertenece y lo muestra en formato definido.\"\"\"\n",
        "\n",
        "   # DEFINIMOS LA PRESENTACIÓN DE LOS ARGUMENTOS OBTENIDOS EN EL CICLO WHILE Y MOSTRAMOS EL RESULTADO CON 'reurn'.\n",
        "   formato = f\"{ciudad}, {pais}\"\n",
        "   return formato.title()\n",
        "\n",
        "# DEFINIMOS UNA VARIABLE QUE USAREMOS EN EL WHILE.\n",
        "Contador = 1\n",
        "\n",
        "# USAMOS UN CICLO WHILE QUE SIEMPRE SE ESTARÁ EJECUTANDO.\n",
        "while True:\n",
        "  \n",
        "  # CREAMOS LA VARIABLE 'f_ciudad' EN DONDE ALMACENAREMOS EL VALOR QUE INGRESEMOS POR TECLADO.\n",
        "  f_ciudad = input(\"Ingrese la ciudad: \")\n",
        "\n",
        "  # CREAMOS LA VARIABLE 'f_pais' EN DONDE ALMACENAREMOS EL VALOR QUE INGRESEMOS POR TECLADO.\n",
        "  f_pais = input(\"Ingrese el país: \")\n",
        "\n",
        "  # LOS VALORES ALMACENADOS EN LAS VARIABLES 'f_ciudad' Y 'f_pais' SERAN USADOS COMO ARGUMENTOS EN LA FUNCIÓN 'city_country(ciudad, pais)'.\n",
        "  # CREAMOS UNA VARIABLE 'formato_completado' PARA GUARDAR ESTOS DATOS.\n",
        "  formato_completado = city_country(f_ciudad, f_pais)\n",
        "  print(f\"\\n{formato_completado}\\n\")\n",
        "\n",
        "  # CADA VEZ QUE SE TERMINE DE EJECUTAR LO ANTERIOR, EL CONTADOR SUMARÁ +1 A SU VALOR GUARDADO.\n",
        "  Contador += 1\n",
        "\n",
        "  # SI EL VALOR DEL CONTADOR ES MAYOR AL NÚMERO '3', SE IMPRIMIRÁ UN MENSAJE Y SE EJECUTARÁ 'break' QUE FINALIZARÁ EL CICLO WHILE. \n",
        "  if Contador > 3:\n",
        "    print(\"\\nEso es todo, Hasta pronto!\")\n",
        "    break"
      ],
      "metadata": {
        "id": "wlSTvn2R98Nr",
        "outputId": "b047dfea-5b6f-4af3-eb66-9f47a9dfd38c",
        "colab": {
          "base_uri": "https://localhost:8080/"
        }
      },
      "execution_count": null,
      "outputs": [
        {
          "output_type": "stream",
          "name": "stdout",
          "text": [
            "Ingrese la ciudad: Lima\n",
            "Ingrese el país: Perú\n",
            "\n",
            "Lima, Perú\n",
            "\n",
            "Ingrese la ciudad: La Paz\n",
            "Ingrese el país: Bolivia\n",
            "\n",
            "La Paz, Bolivia\n",
            "\n",
            "Ingrese la ciudad: Quito\n",
            "Ingrese el país: Ecuador\n",
            "\n",
            "Quito, Ecuador\n",
            "\n",
            "\n",
            "Eso es todo, Hasta pronto!\n"
          ]
        }
      ]
    },
    {
      "cell_type": "markdown",
      "source": [
        "####Ejercicio 7\n",
        "\n",
        "Escriba una función llamada make_album() que cree un diccionario que describa un álbum de música. La función debe tomar el nombre de un artista y el título de un álbum, y debe devolver un diccionario que contenga estos dos datos. Utilice la función para crear tres diccionarios que representen diferentes álbumes. Imprima cada valor devuelto para mostrar que los diccionarios están almacenando la información del álbum correctamente.\n",
        "\n",
        "Use None para agregar un parámetro opcional a make_album() que le permita almacenar la cantidad de canciones en un álbum. Si la línea de llamada incluye un valor para la cantidad de canciones, agregue ese valor al diccionario del álbum. Realice al menos una nueva llamada de función que incluya la cantidad de canciones en un álbum."
      ],
      "metadata": {
        "id": "D23j4HcaEuPB"
      }
    },
    {
      "cell_type": "code",
      "source": [
        "# DEFINIMOS UNA FUNCIÓN CON LOS PARÁMETROS 'n_artista', 't_album' Y 'c_canciones' PERO USANDO 'None', DEFINIREMOS COMO PARÁMETRO OPCIONAL A c_canciones.\n",
        "def make_album(n_artista,t_album,c_canciones=None):\n",
        "\n",
        "  # DESCRIPCIÓN DE LA FUNCIÓN.\n",
        "  \"\"\"La función toma el nombre de un artista y el título de un álbum y devuelve un diccionario que contenga estos dos datos, pero en ciertos casos puede almacenar la cantidad de canciones e incluirlo en el diccionario.\"\"\"\n",
        "\n",
        "  # CREAMOS UN DICCIONARIO CON LAS CLAVES 'Nombre del artista' Y 'Título del álbum' EN DONDE SE GUARDARÁ LOS ARGUMENTOS DE LA FUNCIÓN 'make_album'.\n",
        "  album = {'Nombre del artista':n_artista, 'Título del álbum':t_album}\n",
        "\n",
        "  # SI AL MOMENTO DE USAR LOS ARGUMENTOS COLOCAMOS UN DATO NUMÉRICO QUE DEFINE LA CANTIDAD DE CANCIONES DEL ALBUM, AL LLAMAR AL DICCIONARIO SE MOSTRARÁ LAS CLAVES 'Nombre del artista', 'Título del álbum' Y c_canciones.\n",
        "  if c_canciones:\n",
        "        album['Cantidad de Canciones'] = c_canciones\n",
        "  return album"
      ],
      "metadata": {
        "id": "scMqOsQiE1yJ"
      },
      "execution_count": null,
      "outputs": []
    },
    {
      "cell_type": "code",
      "source": [
        "# CREAMOS UNA VARIABLE EN DONDE ALMACENAREMOS LOS DATOS OBTENIDOS DE LA EJECUCIÓN DE LA FUNCIÓN 'make_album'. EN ESTE CASO SE COLOCA UN ARGUMENTO PARA EL PARÁMETRO 'c_canciones'.\n",
        "album_1 = make_album('Aerosmith', 'Blue', 12)\n",
        "\n",
        "# CREAMOS UNA VARIABLE QUE GUARDARÁ LOS ARGUMENTOS DE LA FUNCIÓN 'make_album'.\n",
        "album_2 = make_album('Juanes', 'Yellow')\n",
        "\n",
        "# CREAMOS UNA VARIABLE EN DONDE ALMACENAREMOS LOS DATOS OBTENIDOS DE LA EJECUCIÓN DE LA FUNCIÓN 'make_album'. EN ESTE CASO SE COLOCA UN ARGUMENTO PARA EL PARÁMETRO 'c_canciones'.\n",
        "album_3 = make_album('Daddy Yankee', 'Red', 8)\n",
        "\n",
        "# IMPRIMIMOS LAS VARIABLES PARA QUE NOS MUESTREN SUS VALORES ALMACENADOS.\n",
        "print(album_1)\n",
        "print(album_2)\n",
        "print(album_3)"
      ],
      "metadata": {
        "id": "EliNgI_jIAQl",
        "outputId": "e9f48a52-d041-44a7-fe6d-a12e8e9a476b",
        "colab": {
          "base_uri": "https://localhost:8080/"
        }
      },
      "execution_count": null,
      "outputs": [
        {
          "output_type": "stream",
          "name": "stdout",
          "text": [
            "{'Nombre del artista': 'Aerosmith', 'Título del álbum': 'Blue', 'Cantidad de Canciones': 12}\n",
            "{'Nombre del artista': 'Juanes', 'Título del álbum': 'Yellow'}\n",
            "{'Nombre del artista': 'Daddy Yankee', 'Título del álbum': 'Red', 'Cantidad de Canciones': 8}\n"
          ]
        }
      ]
    },
    {
      "cell_type": "markdown",
      "source": [
        "####Ejercicio 8\n",
        "\n",
        "Comience con su programa del ejercicio anterior. Escriba un ciclo while que permita a los usuarios ingresar el artista y el título de un álbum. Una vez que tenga esa información, llame a make_album() con la entrada del usuario e imprima el diccionario que se crea. Asegúrese de incluir un valor de salida en el ciclo while."
      ],
      "metadata": {
        "id": "MLYlB87yE4fO"
      }
    },
    {
      "cell_type": "code",
      "source": [
        "# DEFINIMOS UNA FUNCIÓN CON LOS PARÁMETROS 'n_artista', 't_album' Y 'c_canciones' PERO USANDO 'None', DEFINIREMOS COMO PARÁMETRO OPCIONAL A c_canciones.\n",
        "def make_album2(n_artista,t_album,c_canciones=None):\n",
        "\n",
        "  # DESCRIPCIÓN DE LA FUNCIÓN.\n",
        "  \"\"\"La función toma el nombre de un artista y el título de un álbum y devuelve un diccionario que contenga estos dos datos, pero en ciertos casos puede almacenar la cantidad de canciones e incluirlo en el diccionario.\"\"\"\n",
        "\n",
        "  # CREAMOS UN DICCIONARIO CON LAS CLAVES 'Nombre del artista' Y 'Título del álbum' EN DONDE SE GUARDARÁ LOS ARGUMENTOS DE LA FUNCIÓN 'make_album2'.\n",
        "  album = {'Nombre del artista':n_artista, 'Título del álbum':t_album}\n",
        "\n",
        "  # SI AL MOMENTO DE USAR LOS ARGUMENTOS COLOCAMOS UN DATO NUMÉRICO QUE DEFINE LA CANTIDAD DE CANCIONES DEL ALBUM, AL LLAMAR AL DICCIONARIO SE MOSTRARÁ LAS CLAVES 'Nombre del artista', 'Título del álbum' Y c_canciones.\n",
        "  if c_canciones:\n",
        "        album['Cantidad de Canciones'] = c_canciones\n",
        "  return album\n",
        "\n",
        "# USAMOS UN CICLO WHILE QUE SIEMPRE SE ESTARÁ EJECUTANDO.\n",
        "while True:\n",
        "\n",
        "  # CREAMOS LA VARIABLE 'n_artista' EN DONDE ALMACENAREMOS EL VALOR QUE INGRESEMOS POR TECLADO.\n",
        "  n_artista = input(\"Ingrese el nombre del artista: \")\n",
        "\n",
        "  # CREAMOS LA VARIABLE 't_album' EN DONDE ALMACENAREMOS EL VALOR QUE INGRESEMOS POR TECLADO.\n",
        "  t_album = input(\"Ingrese el título del álbum: \")     \n",
        "\n",
        "  # CREAMOS LA VARIABLE 'opcion' EN DONDE ALMACENAREMOS EL VALOR QUE INGRESEMOS POR TECLADO.\n",
        "  opcion = input(\"Conoce la cantidad de canciones en el album (Si: 1 / No:2) \")\n",
        "\n",
        "  # SI EL VALOR EN LA VARIABLE 'opcion' ES '1', CUMPLIRÁ CON ESTA CONDICIÓN. \n",
        "  if opcion == '1':\n",
        "\n",
        "    # EN EL PARÁMETRO 'c_canciones', ALMACENAREMOS EL VALOR QUE INGRESEMOS POR TECLADO.\n",
        "    c_canciones = int(input(\"Ingrese la cantidad de canciones: \"))\n",
        "\n",
        "    # CREAMOS LA VARIABLE 'album_1' EN DONDE ALMACENAREMOS LOS ARGUMENTOS DE LA FUNCIÓN 'make_album2'. LUEGO IMPRIMIREMOS LA VARIABLE 'album_1' PARA QUE NOS MUESTREN SUS VALORES ALMACENADOS.\n",
        "    album_1 = make_album2(n_artista,t_album,c_canciones)\n",
        "    print(album_1) \n",
        "\n",
        " # SI EL VALOR EN LA VARIABLE 'opcion' ES '2', CUMPLIRÁ CON ESTA CONDICIÓN.  \n",
        "  elif opcion == '2':    \n",
        "\n",
        "    # CREAMOS LA VARIABLE 'album_1' EN DONDE ALMACENAREMOS LOS ARGUMENTOS DE LA FUNCIÓN 'make_album2'. LUEGO IMPRIMIREMOS LA VARIABLE 'album_1' PARA QUE NOS MUESTREN SUS VALORES ALMACENADOS.\n",
        "    album_1 = make_album2(n_artista,t_album)\n",
        "    print(album_1)\n",
        "\n",
        "  # SE APLICARÁ UN 'break' PARA FINALIZAR EL CICLO WHILE.\n",
        "  break\n"
      ],
      "metadata": {
        "id": "guPO1QtfQsfU",
        "outputId": "611bc018-374e-4d27-d8cc-0f1eae60874f",
        "colab": {
          "base_uri": "https://localhost:8080/"
        }
      },
      "execution_count": null,
      "outputs": [
        {
          "output_type": "stream",
          "name": "stdout",
          "text": [
            "Ingrese el nombre del artista: Soda Estereo\n",
            "Ingrese el título del álbum: Nada Personal\n",
            "Conoce la cantidad de canciones en el album (Si: 1 / No:2) 1\n",
            "Ingrese la cantidad de canciones: 45\n",
            "{'Nombre del artista': 'Soda Estereo', 'Título del álbum': 'Nada Personal', 'Cantidad de Canciones': 45}\n"
          ]
        }
      ]
    },
    {
      "cell_type": "markdown",
      "source": [
        "####Ejercicio 9\n",
        "\n",
        "Haz una lista que contenga una serie de mensajes de texto cortos. Pase la lista a una función llamada show_messages(), que imprime cada mensaje de texto."
      ],
      "metadata": {
        "id": "JZO1AH2qYgog"
      }
    },
    {
      "cell_type": "code",
      "source": [
        "# DEFINIMOS UNA FUNCIÓN CON EL PARÁMETRO 'mensaje_text'\n",
        "def show_messages(mensaje_text):\n",
        "\n",
        "  # DESCRIPCIÓN DE LA FUNCIÓN.\n",
        "  \"\"\"Esta función imprime un mensaje con cada elemento de una lista.\"\"\"\n",
        "\n",
        "  # # USAMOS UN BUCLE FOR PARA OBTENER LOS ELEMENTOS DE LA LISTA 'msg' EN ESTE CASO. \n",
        "  for mensaje in mensaje_text:\n",
        "\n",
        "    # CADA ELEMENTO OBTENIDO SE ALMACENARÁ MOMENTÁNEAMENTE EN 'mensaje'.\n",
        "    # SE IMPRIMIRÁ UN MENSAJE Y POR MEDIO DEL FORMATO DE CADENA, MOSTRAREMOS EL ELEMENTO GUARDADO MOMENTÁNEAMENTE EN 'mensaje'.\n",
        "    print(f'{mensaje}\\n')"
      ],
      "metadata": {
        "id": "-yETX4VzYksl"
      },
      "execution_count": null,
      "outputs": []
    },
    {
      "cell_type": "code",
      "source": [
        "# CREAMOS UNA LISTA Y EN ELLA GUARDAREMOS ALGUNOS ELEMENTOS.\n",
        "msg = ['Mensaje N°1','Mensaje N°2','Mensaje N°3','Mensaje N°4']\n",
        "\n",
        "# EJECUTAMOS LA FUNCIÓN 'show_messages(mensaje_text)', USANDO COMO ARGUMENTO EL NOMBRE DE LA LISTA.\n",
        "show_messages(msg)"
      ],
      "metadata": {
        "id": "uPQ0C1GNGOmu",
        "outputId": "4e81d14b-0cc3-48aa-9263-8d7a5b86b715",
        "colab": {
          "base_uri": "https://localhost:8080/"
        }
      },
      "execution_count": null,
      "outputs": [
        {
          "output_type": "stream",
          "name": "stdout",
          "text": [
            "Mensaje N°1\n",
            "\n",
            "Mensaje N°2\n",
            "\n",
            "Mensaje N°3\n",
            "\n",
            "Mensaje N°4\n",
            "\n"
          ]
        }
      ]
    },
    {
      "cell_type": "markdown",
      "source": [
        "####Ejercicio 10\n",
        "\n",
        "Comience con una copia de su programa del Ejercicio anterior. Escriba una función llamada send_messages() que imprima cada mensaje de texto y mueva cada mensaje a una nueva lista llamada sent_messages a medida que se imprime. Después de llamar a la función, imprima ambas listas para asegurarse de que los mensajes se movieron correctamente."
      ],
      "metadata": {
        "id": "Kl2_oJ4_rK1C"
      }
    },
    {
      "cell_type": "code",
      "source": [
        "# DEFINIMOS UNA FUNCIÓN CON EL PARÁMETRO 'mensaje_text'\n",
        "def show_messages2(mensaje_text):\n",
        "\n",
        "  # DESCRIPCIÓN DE LA FUNCIÓN.\n",
        "  \"\"\"Esta función imprime un mensaje con cada elemento de una lista.\"\"\"\n",
        "\n",
        "  # USAMOS UN BUCLE FOR PARA OBTENER LOS ELEMENTOS DE LA LISTA 'lista' EN ESTE CASO. \n",
        "  for mensaje in mensaje_text:\n",
        "    \n",
        "    # CADA ELEMENTO OBTENIDO SE ALMACENARÁ MOMENTÁNEAMENTE EN 'mensaje'.\n",
        "    # SE IMPRIMIRÁ UN MENSAJE Y POR MEDIO DEL FORMATO DE CADENA, MOSTRAREMOS EL ELEMENTO GUARDADO MOMENTÁNEAMENTE EN 'mensaje'.\n",
        "    print(f'\\nO: {mensaje}')\n",
        "\n",
        "# DEFINIMOS UNA FUNCIÓN CON LOS PARÁMETROS 'mensaje_origen' Y 'mensaje_copia'.\n",
        "def send_messages(mensaje_origen,mensaje_copia):\n",
        "\n",
        "  # DESCRIPCIÓN DE LA FUNCIÓN.  \n",
        "  \"\"\"Esta función imprime un mensaje con cada elemento de una lista copia que obtenido sus elementos de una lista.\"\"\"\n",
        "\n",
        "  # USAMOS UN CICLO WHILE QUE SE ESTARÁ EJECUTANDO SEGÚN LA CANTIDAD DE ELEMENTOS TENGA LA LISTA.\n",
        "  while mensaje_origen:\n",
        "\n",
        "    # CREAMOS UNA VARIABLE EN DONDE IREMOS ALMACENANDO MOMENTÁNEAMENTE LOS ELEMENTOS DE LA LISTA MIENTRAS SE VA ELIMINANDO DE ESTA.\n",
        "    nueva_lista = mensaje_origen.pop()\n",
        "\n",
        "    # IMPRIMIMOS LOS VALORES ALMACENANDOS MOMENTÁNEAMENTE EN LA VARIABLE 'nueva_lista'.\n",
        "    print(f\"\\nC: {nueva_lista}\")\n",
        "\n",
        "    # CADA VALOR GUARDADO MOMENTÁNEAMENTE EN LA VARIABLE 'nueva_lista' VA A SER ALMACENADO EN UNA LISTA VACÍA QUE SERÁ USADO COMO ARGUMENTO PARA EL PARÁMETRO 'mensaje_copia'\n",
        "    mensaje_copia.append(nueva_lista)"
      ],
      "metadata": {
        "id": "umDV_CNTrOjG"
      },
      "execution_count": null,
      "outputs": []
    },
    {
      "cell_type": "code",
      "source": [
        "# LISTA\n",
        "lista = ['Mensaje N°1','Mensaje N°2','Mensaje N°3','Mensaje N°4']\n",
        "\n",
        "# LISTA COPIA\n",
        "sent_messages = []\n",
        "\n",
        "# EJECUTAMOS LAS FUNCIONES.\n",
        "\n",
        "# USAMOS COMO ARGUMENTO EL NOMBRE DE LA LISTA.\n",
        "show_messages2(lista)\n",
        "\n",
        "# USAMOS COMO ARGUMENTO EL NOMBRE DE LA LISTA Y EL NOMBRE DE LA LISTA COPIA.\n",
        "send_messages(lista, sent_messages)"
      ],
      "metadata": {
        "id": "Pm_zZdprLCBN",
        "outputId": "cab06472-1d76-4bce-f9fa-1f3a99229f4e",
        "colab": {
          "base_uri": "https://localhost:8080/"
        }
      },
      "execution_count": null,
      "outputs": [
        {
          "output_type": "stream",
          "name": "stdout",
          "text": [
            "\n",
            "O: Mensaje N°1\n",
            "\n",
            "O: Mensaje N°2\n",
            "\n",
            "O: Mensaje N°3\n",
            "\n",
            "O: Mensaje N°4\n",
            "\n",
            "C: Mensaje N°4\n",
            "\n",
            "C: Mensaje N°3\n",
            "\n",
            "C: Mensaje N°2\n",
            "\n",
            "C: Mensaje N°1\n"
          ]
        }
      ]
    },
    {
      "cell_type": "markdown",
      "source": [
        "####Ejercicio 11\n",
        "\n",
        "Comience con su trabajo del Ejercicio anterior. Llame a la función send_messages() con una copia de la lista de mensajes. Después de llamar a la función, imprima ambas listas para mostrar que la lista original ha conservado sus mensajes."
      ],
      "metadata": {
        "id": "35JKZgJdrPds"
      }
    },
    {
      "cell_type": "code",
      "source": [
        "# DEFINIMOS UNA FUNCIÓN CON LOS PARÁMETROS 'mensaje_origen' Y 'mensaje_copia'.\n",
        "def send_messages2(mensaje_origen,mensaje_copia):\n",
        "\n",
        "  # DESCRIPCIÓN DE LA FUNCIÓN.\n",
        "  \"\"\"Esta función imprime un mensaje con cada elemento de una lista. También imprime un mensaje con cada elemento de una lista copia que obtenido sus elementos de una lista.\"\"\"\n",
        "  \n",
        "\n",
        "  # USAMOS UN BUCLE FOR PARA OBTENER LOS ELEMENTOS DE LA LISTA 'lista' EN ESTE CASO.\n",
        "  for msg_o in mensaje_origen:\n",
        "\n",
        "    # CADA ELEMENTO OBTENIDO SE ALMACENARÁ MOMENTÁNEAMENTE EN 'mensaje'.\n",
        "    # SE IMPRIMIRÁ UN MENSAJE Y POR MEDIO DEL FORMATO DE CADENA, MOSTRAREMOS EL ELEMENTO GUARDADO MOMENTÁNEAMENTE EN 'mensaje'.\n",
        "    print(f'\\nO: {msg_o}')\n",
        "\n",
        "  # USAMOS UN CICLO WHILE QUE SE ESTARÁ EJECUTANDO SEGÚN LA CANTIDAD DE ELEMENTOS TENGA LA LISTA.\n",
        "  while mensaje_origen:\n",
        "\n",
        "    # CREAMOS UNA VARIABLE EN DONDE IREMOS ALMACENANDO MOMENTÁNEAMENTE LOS ELEMENTOS DE LA LISTA MIENTRAS SE VA ELIMINANDO DE ESTA.\n",
        "    nueva_lista = mensaje_origen.pop()\n",
        "\n",
        "    # IMPRIMIMOS LOS VALORES ALMACENANDOS MOMENTÁNEAMENTE EN LA VARIABLE 'nueva_lista'.\n",
        "    print(f\"\\nC: {nueva_lista}\")\n",
        "\n",
        "    # CADA VALOR GUARDADO MOMENTÁNEAMENTE EN LA VARIABLE 'nueva_lista' VA A SER ALMACENADO EN UNA LISTA VACÍA QUE SERÁ USADO COMO ARGUMENTO PARA EL PARÁMETRO 'mensaje_copia'\n",
        "    mensaje_copia.append(nueva_lista) \n"
      ],
      "metadata": {
        "id": "Fztz-FBKrUrd"
      },
      "execution_count": null,
      "outputs": []
    },
    {
      "cell_type": "code",
      "source": [
        "# LISTA\n",
        "lista = ['Mensaje N°1','Mensaje N°2','Mensaje N°3','Mensaje N°4']\n",
        "\n",
        "# LISTA COPIA\n",
        "sent_messages = []\n",
        "\n",
        "# USAMOS COMO ARGUMENTO EL NOMBRE DE LA LISTA Y EL NOMBRE DE LA LISTA COPIA.\n",
        "send_messages2(lista, sent_messages)"
      ],
      "metadata": {
        "id": "zxda1Y8SUM-G",
        "outputId": "a5aee01a-63f9-4bf9-ebdf-d7bf89a3c9c2",
        "colab": {
          "base_uri": "https://localhost:8080/"
        }
      },
      "execution_count": null,
      "outputs": [
        {
          "output_type": "stream",
          "name": "stdout",
          "text": [
            "\n",
            "O: Mensaje N°1\n",
            "\n",
            "O: Mensaje N°2\n",
            "\n",
            "O: Mensaje N°3\n",
            "\n",
            "O: Mensaje N°4\n",
            "\n",
            "C: Mensaje N°4\n",
            "\n",
            "C: Mensaje N°3\n",
            "\n",
            "C: Mensaje N°2\n",
            "\n",
            "C: Mensaje N°1\n"
          ]
        }
      ]
    },
    {
      "cell_type": "markdown",
      "source": [
        "####Ejercicio 12\n",
        "\n",
        "Escribe una función que acepte una lista de artículos que una persona quiere en un sándwich. La función debe tener un parámetro que recopile tantos elementos como proporcione la llamada a la función, y debe imprimir un resumen del sándwich que se está ordenando. Llame a la función tres veces, usando un número diferente de argumentos cada vez."
      ],
      "metadata": {
        "id": "dfVoxRsuOdsN"
      }
    },
    {
      "cell_type": "code",
      "source": [
        "# DEFINIMOS UNA FUNCIÓN CON EL PARÁMETRO '*toppings'. ESTE PARÁMETRO ACEPTA UN NÚMERO INDETERMINADO DE ARGUMENTOS.\n",
        "def make_sandwich(*toppings):\n",
        "\n",
        "  # DESCRIPCIÓN DE LA FUNCIÓN.\n",
        "  \"\"\"Esta función imprime los toppings recopilados de un sandwich.\"\"\"\n",
        "\n",
        "  # IMPRIMIMOS UN MENSAJE.\n",
        "  print('\\nEl sandwich contiene los siguientes toppings:')\n",
        "\n",
        "  # USAMOS UN BUCLE FOR PARA ENLISTAR CADA ARGUMENTO USADO EN LA FUNCIÓN.\n",
        "  for topping in toppings:\n",
        "\n",
        "    # IMPRIMIMOS CADA ARGUMENTO USADO EN LA FUNCIÓN.\n",
        "    print (f'- {topping.title()}')  "
      ],
      "metadata": {
        "id": "JtOmS8HhOgoA"
      },
      "execution_count": null,
      "outputs": []
    },
    {
      "cell_type": "code",
      "source": [
        "# EJECUTAMOS LA FUNCIÓN Y USAMOS ALGUNOS ARGUMENTOS.\n",
        "make_sandwich('queso','huevo','tomate','pollo')"
      ],
      "metadata": {
        "id": "G6MWWuq7PK4t",
        "outputId": "d4a8664c-baa2-4233-c270-3f05dfb676ab",
        "colab": {
          "base_uri": "https://localhost:8080/"
        }
      },
      "execution_count": null,
      "outputs": [
        {
          "output_type": "stream",
          "name": "stdout",
          "text": [
            "\n",
            "El sandwich contiene los siguientes toppings:\n",
            "- Queso\n",
            "- Huevo\n",
            "- Tomate\n",
            "- Pollo\n"
          ]
        }
      ]
    },
    {
      "cell_type": "markdown",
      "source": [
        "####Ejercicio 13\n",
        "\n",
        "Comience con una copia de user_profile de Uso de argumentos de palabras clave arbitrarias. Cree un perfil de usted mismo llamando a build_profile(), usando su nombre y apellido y otros tres pares clave-valor que lo describan."
      ],
      "metadata": {
        "id": "IMTmNNu4QkHS"
      }
    },
    {
      "cell_type": "code",
      "source": [
        "# DEFINIMOS UNA FUNCIÓN CON LOS PARÁMETROS 'nombre', 'apellido' Y '**user_info'. \n",
        "def build_profile(nombre, apellido, **user_info):\n",
        "\n",
        "    # DESCRIPCIÓN DE LA FUNCIÓN.\n",
        "    \"\"\"Contruye un diccionario que contenga la información completa del usuario.\"\"\"\n",
        "\n",
        "    # CREAMOS UN CLAVE DE DICCIONARIO 'nombre' DONDE GUARDAREMOS EL ARGUMENTO DEL PARÁMETRO 'nombre'.\n",
        "    user_info['nombre'] = nombre\n",
        "\n",
        "    # CREAMOS UN CLAVE DE DICCIONARIO 'apellido' DONDE GUARDAREMOS EL ARGUMENTO DEL PARÁMETRO 'apellido'.\n",
        "    user_info['apellido'] = apellido\n",
        "\n",
        "    # RETORNAMOS ARGUMENTOS DE LA PALABRA CLAVE ARBITRARIA 'user_info'.\n",
        "    return user_info"
      ],
      "metadata": {
        "id": "z28EjVVHQpUd"
      },
      "execution_count": null,
      "outputs": []
    },
    {
      "cell_type": "code",
      "source": [
        "# CREAMOS UNA VARIBLE EN DONDE ALMACENAREMOS LOS DATOS OBTENIDOS DE LA EJECUCIÓN DE LA FUNCIÓN 'build_profile'.\n",
        "user_profile = build_profile('Abel', 'Untiveros',\n",
        "                             pais='Peru',\n",
        "                             profesion='Ingenieria de Sistemas',\n",
        "                             edad=28,\n",
        "                             color='Azul',\n",
        "                             genero='Masculino',\n",
        "                             telefono='111-222-333')\n",
        "\n",
        "# IMPRIMIMOS LA VARIABLE PARA QUE NOS MUESTRE SUS VALORES ALMACENADOS.\n",
        "print(user_profile)"
      ],
      "metadata": {
        "id": "PtT1b0l4RAip",
        "outputId": "6c4e6966-bb9d-44ab-a527-ccc7a19168b9",
        "colab": {
          "base_uri": "https://localhost:8080/"
        }
      },
      "execution_count": null,
      "outputs": [
        {
          "output_type": "stream",
          "name": "stdout",
          "text": [
            "{'pais': 'Peru', 'profesion': 'Ingenieria de Sistemas', 'edad': 28, 'color': 'Azul', 'genero': 'Masculino', 'telefono': '111-222-333', 'nombre': 'Abel', 'apellido': 'Untiveros'}\n"
          ]
        }
      ]
    },
    {
      "cell_type": "markdown",
      "source": [
        "####Ejercicio 14\n",
        "\n",
        "Escribe una función que almacene información sobre un automóvil en un diccionario. La función siempre debe recibir un fabricante y un nombre de modelo. Entonces debería aceptar un número arbitrario de argumentos de palabras clave. Llame a la función con la información requerida y otros dos pares de nombre y valor, como un color o una función opcional. Su función debería funcionar para una llamada como esta:\n",
        "\n",
        "coche = make_car('subaru', 'outback', color='blue', tow_package=True)\n",
        "\n",
        "Imprima el diccionario que se devuelve para asegurarse de que toda la información se almacenó correctamente."
      ],
      "metadata": {
        "id": "cSBuK2SKTRJ9"
      }
    },
    {
      "cell_type": "code",
      "source": [
        "# DEFINIMOS UNA FUNCIÓN CON LOS PARÁMETROS 'fabricante', 'modelo' Y '**car_info'. \n",
        "def make_car(fabricante, modelo, **car_info):\n",
        "\n",
        "  # DESCRIPCIÓN DE LA FUNCIÓN.\n",
        "  \"\"\"Función que almacena en un diccionario la información sobre un automóvil.\"\"\"\n",
        "\n",
        "  # CREAMOS UNA CLAVE DE DICCIONARIO 'fabricante' DONDE GUARDAREMOS EL ARGUMENTO DEL PARÁMETRO 'fabricante'.\n",
        "  car_info['fabricante'] = fabricante\n",
        "\n",
        "  # CREAMOS UNA CLAVE DE DICCIONARIO 'modelo' DONDE GUARDAREMOS EL ARGUMENTO DEL PARÁMETRO 'modelo'.\n",
        "  car_info['modelo'] = modelo\n",
        "\n",
        " # RETORNAMOS ARGUMENTOS DE LA PALABRA CLAVE ARBITRARIA 'car_info'.\n",
        "  return car_info"
      ],
      "metadata": {
        "id": "QaMy-gCvTWxC"
      },
      "execution_count": null,
      "outputs": []
    },
    {
      "cell_type": "code",
      "source": [
        "# CREAMOS UNA VARIBLE EN DONDE ALMACENAREMOS LOS DATOS OBTENIDOS DE LA EJECUCIÓN DE LA FUNCIÓN 'make_car'.\n",
        "coche = make_car('Toyota', 'Yaris',\n",
        "                color='Rojo',\n",
        "                tipo_caja='Mecánica')\n",
        "\n",
        "# IMPRIMIMOS LA VARIABLE PARA QUE NOS MUESTRE SUS VALORES ALMACENADOS.\n",
        "print(coche)"
      ],
      "metadata": {
        "id": "UodpuRtKWc6_",
        "outputId": "c1f0610b-b473-47f0-80be-5c16dee2f71f",
        "colab": {
          "base_uri": "https://localhost:8080/"
        }
      },
      "execution_count": null,
      "outputs": [
        {
          "output_type": "stream",
          "name": "stdout",
          "text": [
            "{'color': 'Rojo', 'tipo_caja': 'Mecánica', 'fabricante': 'Toyota', 'modelo': 'Yaris'}\n"
          ]
        }
      ]
    },
    {
      "cell_type": "markdown",
      "source": [
        "####Ejercicio 15\n",
        "\n",
        "Haz una clase llamada Restaurante. El método init() para Restaurante debe almacenar dos atributos: un nombre_restaurante y un tipo_cocina. Cree un método llamado describe_restaurant() que imprima estos dos datos y un método llamado open_restaurant() que imprima un mensaje que indique que el restaurante está abierto.\n",
        "\n",
        "Cree una instancia llamada restaurante de su clase. Imprima los dos atributos individualmente y luego llame a ambos métodos."
      ],
      "metadata": {
        "id": "hjXqbKzyXqbi"
      }
    },
    {
      "cell_type": "code",
      "source": [
        "# CREAMOS LA CLASE 'Restaurante'.\n",
        "class Restaurante:\n",
        "\n",
        "  # DESCRIPCIÓN DE LA CLASE.\n",
        "  \"\"\"Restaurante debe almacenar atributos.\"\"\"\n",
        "  \n",
        "  # CREAMOS UN MÉTODO '__init__' CON LOS PARÁMETROS 'nombre_restaurante' Y 'tipo_cocina'.  \n",
        "  def __init__(self, nombre_restaurante, tipo_cocina):\n",
        "\n",
        "    # DESCRIPCIÓN DEL MÉTODO.\n",
        "      \"\"\"Iniciamos con los atributos de nombre del raturante y el tipo de cocina.\"\"\"\n",
        "\n",
        "      # EL 'self' ES EL NOMBRE DEL OBJETO EN EL QUE SE ENCUENTRA ESCRITO.\n",
        "      # SE LE ASIGNA EL PÁRAMETRO A CADA ATRIBUTO.\n",
        "      self.nombre_restaurante = nombre_restaurante\n",
        "      self.tipo_cocina = tipo_cocina\n",
        "\n",
        "  # CREAMOS UN MÉTODO 'describe_restaurant' CON EL PARÁMETRO 'self'.\n",
        "  def describe_restaurant(self):\n",
        "\n",
        "      # DESCRIPCIÓN DEL MÉTODO.\n",
        "      \"\"\"Imprime los datos nombre_restaurante y tipo_cocina\"\"\"\n",
        "\n",
        "      # IMPRIMIMOS LOS VALORES DE LOS ATRIBUTOS.\n",
        "      print(f'{self.nombre_restaurante}, {self.tipo_cocina}')\n",
        "  \n",
        "  # CREAMOS UN MÉTODO 'open_restaurant' CON EL PARÁMETRO 'self'.\n",
        "  def open_restaurant(self):\n",
        "\n",
        "      # DESCRIPCIÓN DEL MÉTODO.\n",
        "        \"\"\"Imprime un mensaje\"\"\"\n",
        "\n",
        "        # IMPRIMIMOS UN MENSAJE CUANDO SE LLAME AL MÉTODO.\n",
        "        print('El restaurante está abierto.')"
      ],
      "metadata": {
        "id": "eBuu6gc6YH4s"
      },
      "execution_count": null,
      "outputs": []
    },
    {
      "cell_type": "code",
      "source": [
        "# CREAMOS UNA INSTANCIA LLAMADA 'restaurante'\n",
        "restaurante = Restaurante('El Muelle', 'Marina')"
      ],
      "metadata": {
        "id": "VeQ-YRpHdBDT"
      },
      "execution_count": null,
      "outputs": []
    },
    {
      "cell_type": "code",
      "source": [
        "# LLAMAMOS AL ATRIBUTO 'nombre_restaurante' CON LA INSTANCIA 'restaurante'\n",
        "restaurante.nombre_restaurante"
      ],
      "metadata": {
        "id": "nr_XVq4HdNbE",
        "outputId": "9eada8df-95fa-43c6-872a-e2c719a5ffc8",
        "colab": {
          "base_uri": "https://localhost:8080/",
          "height": 35
        }
      },
      "execution_count": null,
      "outputs": [
        {
          "output_type": "execute_result",
          "data": {
            "text/plain": [
              "'El Muelle'"
            ],
            "application/vnd.google.colaboratory.intrinsic+json": {
              "type": "string"
            }
          },
          "metadata": {},
          "execution_count": 69
        }
      ]
    },
    {
      "cell_type": "code",
      "source": [
        "# LLAMAMOS AL ATRIBUTO 'tipo_cocina' CON LA INSTANCIA 'restaurante'\n",
        "restaurante.tipo_cocina"
      ],
      "metadata": {
        "id": "lHUIJtmYdgIC",
        "outputId": "26d943f4-3277-4892-c149-1a1ab4634fce",
        "colab": {
          "base_uri": "https://localhost:8080/",
          "height": 35
        }
      },
      "execution_count": null,
      "outputs": [
        {
          "output_type": "execute_result",
          "data": {
            "text/plain": [
              "'Marina'"
            ],
            "application/vnd.google.colaboratory.intrinsic+json": {
              "type": "string"
            }
          },
          "metadata": {},
          "execution_count": 57
        }
      ]
    },
    {
      "cell_type": "code",
      "source": [
        "# LLAMAMOS AL MÉTODO 'describe_restaurant()' CON LA INSTANCIA 'restaurante'\n",
        "restaurante.describe_restaurant()"
      ],
      "metadata": {
        "id": "BfNYRTk1doT9",
        "outputId": "1c1a9ed7-c82e-43f7-83c3-2957bf93b078",
        "colab": {
          "base_uri": "https://localhost:8080/"
        }
      },
      "execution_count": null,
      "outputs": [
        {
          "output_type": "stream",
          "name": "stdout",
          "text": [
            "El Muelle, Marina\n"
          ]
        }
      ]
    },
    {
      "cell_type": "code",
      "source": [
        "# LLAMAMOS AL MÉTODO 'open_restaurant()' CON LA INSTANCIA 'restaurante'\n",
        "restaurante.open_restaurant()"
      ],
      "metadata": {
        "id": "rjCJq2F1d3lv",
        "outputId": "cbaaa3e5-be9a-4e54-9973-7c1b25bd841a",
        "colab": {
          "base_uri": "https://localhost:8080/"
        }
      },
      "execution_count": null,
      "outputs": [
        {
          "output_type": "stream",
          "name": "stdout",
          "text": [
            "El restaurante está abierto.\n"
          ]
        }
      ]
    },
    {
      "cell_type": "markdown",
      "source": [
        "####Ejercicio 16\n",
        "\n",
        "Comience con su clase del Ejercicio anterior. Cree tres instancias diferentes de la clase y llame a describe_restaurant() para cada instancia."
      ],
      "metadata": {
        "id": "2UhnqCIZd-Wy"
      }
    },
    {
      "cell_type": "code",
      "source": [
        "# CREAMOS UNA INSTANCIA LLAMADA 'restaurante_1'\n",
        "restaurante_1 = Restaurante('El Muelle', 'Marina')\n",
        "\n",
        "# CREAMOS UNA INSTANCIA LLAMADA 'restaurante_2'\n",
        "restaurante_2 = Restaurante('Norkys', 'Pollo a la Brasa')\n",
        "\n",
        "# CREAMOS UNA INSTANCIA LLAMADA 'restaurante_3'\n",
        "restaurante_3 = Restaurante('Papa Jhon´s', 'Pizzas')"
      ],
      "metadata": {
        "id": "SxXXhC9geH1y"
      },
      "execution_count": null,
      "outputs": []
    },
    {
      "cell_type": "code",
      "source": [
        "# LLAMAMOS AL MÉTODO 'describe_restaurant()' CON LA INSTANCIA 'restaurante_1'\n",
        "restaurante_1.describe_restaurant()"
      ],
      "metadata": {
        "id": "g5QjP5sIelJ4",
        "outputId": "cad9f84d-3e7f-4fcc-c2f6-2605b9efeb44",
        "colab": {
          "base_uri": "https://localhost:8080/"
        }
      },
      "execution_count": null,
      "outputs": [
        {
          "output_type": "stream",
          "name": "stdout",
          "text": [
            "El Muelle, Marina\n"
          ]
        }
      ]
    },
    {
      "cell_type": "code",
      "source": [
        "# LLAMAMOS AL MÉTODO 'describe_restaurant()' CON LA INSTANCIA 'restaurante_2'\n",
        "restaurante_2.describe_restaurant()"
      ],
      "metadata": {
        "id": "dY3NUI9met0i",
        "outputId": "449a82a5-5d53-4f0e-ec43-ca48541f4d62",
        "colab": {
          "base_uri": "https://localhost:8080/"
        }
      },
      "execution_count": null,
      "outputs": [
        {
          "output_type": "stream",
          "name": "stdout",
          "text": [
            "Norkys, Pollo a la Brasa\n"
          ]
        }
      ]
    },
    {
      "cell_type": "code",
      "source": [
        "# LLAMAMOS AL MÉTODO 'describe_restaurant()' CON LA INSTANCIA 'restaurante_3'\n",
        "restaurante_3.describe_restaurant()"
      ],
      "metadata": {
        "id": "zzuMkurBewzp",
        "outputId": "7ad460bb-504c-4e4e-e50a-b762ff957eb4",
        "colab": {
          "base_uri": "https://localhost:8080/"
        }
      },
      "execution_count": null,
      "outputs": [
        {
          "output_type": "stream",
          "name": "stdout",
          "text": [
            "Papa Jhon´s, Pizzas\n"
          ]
        }
      ]
    },
    {
      "cell_type": "markdown",
      "source": [
        "####Ejercicio 17\n",
        "\n",
        "Haz una clase llamada Usuario. Cree dos atributos llamados first_name y last_name, y luego cree varios otros atributos que normalmente se almacenan en un perfil de usuario. Cree un método llamado describe_user() que imprima un resumen de la información del usuario. Cree otro método llamado greeting_user() que imprima un saludo personalizado para el usuario.\n",
        "\n",
        "Cree varias instancias que representen a diferentes usuarios y llame a ambos métodos para cada usuario."
      ],
      "metadata": {
        "id": "ysVJNrWye0CP"
      }
    },
    {
      "cell_type": "code",
      "source": [
        "# CREAMOS LA CLASE 'Usuario'.\n",
        "class Usuario:\n",
        "\n",
        "  # DESCRIPCIÓN DE LA CLASE.\n",
        "  \"\"\"Usuario debe almacenar atributos.\"\"\"\n",
        "\n",
        "  # CREAMOS UN MÉTODO '__init__' CON LOS PARÁMETROS 'first_name', 'last_name', 'age', 'country', 'email', 'phone_number' Y 'gender'.\n",
        "  def __init__(self, first_name, last_name, age, country, email, phone_number, gender):\n",
        "\n",
        "    # EL 'self' ES EL NOMBRE DEL OBJETO EN EL QUE SE ENCUENTRA ESCRITO.\n",
        "     # SE LE ASIGNA EL PÁRAMETRO A CADA ATRIBUTO.\n",
        "    self.first_name = first_name\n",
        "    self.last_name = last_name\n",
        "    self.age = age\n",
        "    self.country = country\n",
        "    self.email = email\n",
        "    self.phone_number = phone_number\n",
        "    self.gender = gender\n",
        "\n",
        "  # CREAMOS UN MÉTODO 'describe_user' CON EL PARÁMETRO 'self'.\n",
        "  def describe_user(self):\n",
        "\n",
        "    # DESCRIPCIÓN DEL MÉTODO.\n",
        "    \"\"\"Imprime los datos almacenados del usuario.\"\"\"\n",
        "\n",
        "    # IMPRIMIMOS LOS VALORES DE LOS ATRIBUTOS.\n",
        "    print(f'Nombre: {self.first_name}, Apellido: {self.last_name}, Edad: {self.age}, País: {self.country}, Correo: {self.email}, Teléfono: {self.phone_number}, Género: {self.gender}')\n",
        "\n",
        "\n",
        "  # CREAMOS UN MÉTODO 'greeting_user' CON EL PARÁMETRO 'self'.\n",
        "  def greeting_user(self):\n",
        "\n",
        "    # DESCRIPCIÓN DEL MÉTODO.\n",
        "    \"\"\"Imprime un saludo personalizado para el usuario.\"\"\"\n",
        "\n",
        "  # IMPRIMIMOS UN MENSAJE CON EL ATRIBUTO 'first_name'.\n",
        "    print(f'Bienvenid@ {self.first_name}, es un gusto en saludarte.')\n"
      ],
      "metadata": {
        "id": "2Fqcso8se5Lj"
      },
      "execution_count": null,
      "outputs": []
    },
    {
      "cell_type": "code",
      "source": [
        "# CREAMOS UNA INSTANCIA LLAMADA 'usuario_1'\n",
        "usuario_1 = Usuario('Abel','Untiveros','28','Perú','A123@hotmail.com','100-582-333','Masculino')\n",
        "\n",
        "# CREAMOS UNA INSTANCIA LLAMADA 'usuario_2'\n",
        "usuario_2 = Usuario('María','Herrera','35','España','M123@hotmail.com','999-222-111','Femenino')\n",
        "\n",
        "# CREAMOS UNA INSTANCIA LLAMADA 'usuario_3'\n",
        "usuario_3 = Usuario('José','Palacios','40','México','J123@aol.com','505-342-373','Masculino')\n",
        "\n",
        "# CREAMOS UNA INSTANCIA LLAMADA 'usuario_4'\n",
        "usuario_4 = Usuario('Emilia','Ventura','31','Chile','E123@hotmail.com','898-283-000','Femenino')"
      ],
      "metadata": {
        "id": "B-j2Tqveho1p"
      },
      "execution_count": null,
      "outputs": []
    },
    {
      "cell_type": "code",
      "source": [
        "# LLAMAMOS AL MÉTODO 'describe_user()' CON LA INSTANCIA 'usuario_1'\n",
        "usuario_1.describe_user()\n",
        "\n",
        "# LLAMAMOS AL MÉTODO 'greeting_user()' CON LA INSTANCIA 'usuario_1'\n",
        "usuario_1.greeting_user()"
      ],
      "metadata": {
        "id": "K5hvOnOsiLsW",
        "outputId": "59e5b149-2bcb-4dd1-fbe1-c4c1e7e53ccb",
        "colab": {
          "base_uri": "https://localhost:8080/"
        }
      },
      "execution_count": null,
      "outputs": [
        {
          "output_type": "stream",
          "name": "stdout",
          "text": [
            "Nombre: Abel, Apellido: Untiveros, Edad: 28, País: Perú, Correo: A123@hotmail.com, Teléfono: 100-582-333, Género: Masculino\n",
            "Bienvenid@ Abel, es un gusto en saludarte.\n"
          ]
        }
      ]
    },
    {
      "cell_type": "code",
      "source": [
        "# LLAMAMOS AL MÉTODO 'describe_user()' CON LA INSTANCIA 'usuario_2'\n",
        "usuario_2.describe_user()\n",
        "\n",
        "# LLAMAMOS AL MÉTODO 'greeting_user()' CON LA INSTANCIA 'usuario_2'\n",
        "usuario_2.greeting_user()"
      ],
      "metadata": {
        "id": "9jQN2_AEkrzZ",
        "outputId": "814aa0f3-58e9-4fa9-ada2-949f4ed45458",
        "colab": {
          "base_uri": "https://localhost:8080/"
        }
      },
      "execution_count": null,
      "outputs": [
        {
          "output_type": "stream",
          "name": "stdout",
          "text": [
            "Nombre: María, Apellido: Herrera, Edad: 35, País: España, Correo: M123@hotmail.com, Teléfono: 999-222-111, Género: Femenino\n",
            "Bienvenid@ María, es un gusto en saludarte.\n"
          ]
        }
      ]
    },
    {
      "cell_type": "code",
      "source": [
        "# LLAMAMOS AL MÉTODO 'describe_user()' CON LA INSTANCIA 'usuario_3'\n",
        "usuario_3.describe_user()\n",
        "\n",
        "# LLAMAMOS AL MÉTODO 'greeting_user()' CON LA INSTANCIA 'usuario_3'\n",
        "usuario_3.greeting_user()"
      ],
      "metadata": {
        "id": "kCE0W3Czkuwh",
        "outputId": "28cf0350-fd9c-4ad5-8658-3cec993318b1",
        "colab": {
          "base_uri": "https://localhost:8080/"
        }
      },
      "execution_count": null,
      "outputs": [
        {
          "output_type": "stream",
          "name": "stdout",
          "text": [
            "Nombre: José, Apellido: Palacios, Edad: 40, País: México, Correo: J123@aol.com, Teléfono: 505-342-373, Género: Masculino\n",
            "Bienvenid@ José, es un gusto en saludarte.\n"
          ]
        }
      ]
    },
    {
      "cell_type": "code",
      "source": [
        "# LLAMAMOS AL MÉTODO 'describe_user()' CON LA INSTANCIA 'usuario_4'\n",
        "usuario_4.describe_user()\n",
        "\n",
        "# LLAMAMOS AL MÉTODO 'greeting_user()' CON LA INSTANCIA 'usuario_4'\n",
        "usuario_4.greeting_user()"
      ],
      "metadata": {
        "id": "iqq-ChkEkxYO",
        "outputId": "43a9d5b2-d361-4685-987b-eece52804792",
        "colab": {
          "base_uri": "https://localhost:8080/"
        }
      },
      "execution_count": null,
      "outputs": [
        {
          "output_type": "stream",
          "name": "stdout",
          "text": [
            "Nombre: Emilia, Apellido: Ventura, Edad: 31, País: Chile, Correo: E123@hotmail.com, Teléfono: 898-283-000, Género: Femenino\n",
            "Bienvenid@ Emilia, es un gusto en saludarte.\n"
          ]
        }
      ]
    },
    {
      "cell_type": "markdown",
      "source": [
        "###Módulo 4"
      ],
      "metadata": {
        "id": "-L8jMbOfeeRD"
      }
    },
    {
      "cell_type": "markdown",
      "source": [
        "####Ejercicio 1\n",
        "\n",
        "Use un bucle **for** para imprimir los números del 1 al 20, inclusive."
      ],
      "metadata": {
        "id": "iKP2wc0oeTxN"
      }
    },
    {
      "cell_type": "code",
      "source": [
        "# USAMOS UN BUCLE FOR EN DONDE DEFINIMOS UN RANGO DEL 1 AL 21.\n",
        "for value in range(1,21):\n",
        "      \n",
        "      # LOS VALORES QUE SE IRÁN ENLISTANDO SERÁN SOLO DEL 1 AL 20.     \n",
        "      print(value)"
      ],
      "metadata": {
        "id": "YhSXYyoEeVid",
        "outputId": "35a3f863-be4d-4f79-ed19-080e22e7ce82",
        "colab": {
          "base_uri": "https://localhost:8080/"
        }
      },
      "execution_count": null,
      "outputs": [
        {
          "output_type": "stream",
          "name": "stdout",
          "text": [
            "1\n",
            "2\n",
            "3\n",
            "4\n",
            "5\n",
            "6\n",
            "7\n",
            "8\n",
            "9\n",
            "10\n",
            "11\n",
            "12\n",
            "13\n",
            "14\n",
            "15\n",
            "16\n",
            "17\n",
            "18\n",
            "19\n",
            "20\n"
          ]
        }
      ]
    },
    {
      "cell_type": "markdown",
      "source": [
        "####Ejercicio 2\n",
        "\n",
        "Haga una lista de los números del uno al millón y luego use un ciclo for para imprimir los números. (Si la salida tarda demasiado, deténgala presionando CTRL-C o cerrando la ventana de salida)."
      ],
      "metadata": {
        "id": "zrDBTmFnfD34"
      }
    },
    {
      "cell_type": "code",
      "source": [
        "# CREAMOS UNA LISTA VACÍA.\n",
        "numeros = []\n",
        "\n",
        "# USAMOS UN BUCLE FOR EN DONDE DEFINIMOS UN RANGO DEL 1 AL 1_000_001.\n",
        "for value in range(1,1000001):\n",
        "\n",
        "  # LOS VALORES QUE SE IRÁN OBTENIENDO SE GUARDARÁN EN LA LISTA 'numeros'.\n",
        "  numeros.append(value)\n",
        "\n",
        "# IMPRIMIMOS LA LISTA PERO EN ESTE CASO SE TARDA DEMASIADO EN MOSTRAR LOS ELEMENTOS.    \n",
        "print(numeros)"
      ],
      "metadata": {
        "id": "1Olmy_LlfelZ"
      },
      "execution_count": null,
      "outputs": []
    },
    {
      "cell_type": "markdown",
      "source": [
        "####Ejercicio 3\n",
        "\n",
        "Haga una lista de los números del uno al millón y luego use min() y max() para asegurarse de que su lista realmente comience en uno y termine en un millón. Además, use la función sum() para ver qué tan rápido Python puede agregar un millón de números."
      ],
      "metadata": {
        "id": "7m3f7bTXfoRY"
      }
    },
    {
      "cell_type": "code",
      "source": [
        "# IMPORTAMOS LA LIBRERIA 'time'\n",
        "import time\n",
        "\n",
        "# CREAMOS UNA NUEVA LSITA CON ELEMENTOS DE UN RANGO DEL 1 1 AL 1_000_001.\n",
        "my_list = list(range(1, 1_000_001))\n",
        "\n",
        "# IMPRIMIMOS EL MÍNIMO VALOR DE LA LISTA 'my_list'.\n",
        "print(min(my_list))\n",
        "\n",
        "# IMPRIMIMOS EL MÁXIMO VALOR DE LA LISTA 'my_list'.\n",
        "print(max(my_list))\n",
        "\n",
        "# CREAMOS LA VARIABLE 'start' EN DONDE LE ASIGNAREMOS 'time.time()' QUE SIRVE PARA OBTENER EL TIEMPO EN SEGUNDOS.\n",
        "start = time.time()\n",
        "sum(my_list)\n",
        "\n",
        "# IMPRIMIMOS UN MENSAJE EN DONDE MUESTRA EL TIEMPO DE EJECUCIÓN DE LA SUMA DE LOS ELEMENTOS DE LA LISTA EN SEGUNDOS.\n",
        "elapsed = time.time() - start\n",
        "print(f'process elapsed {elapsed} seconds')"
      ],
      "metadata": {
        "id": "DXVqmO7vfukt",
        "outputId": "2aed4f72-caac-49d7-9757-1d155f170673",
        "colab": {
          "base_uri": "https://localhost:8080/"
        }
      },
      "execution_count": null,
      "outputs": [
        {
          "output_type": "stream",
          "name": "stdout",
          "text": [
            "1\n",
            "1000000\n",
            "process elapsed 0.010749578475952148 seconds\n"
          ]
        }
      ]
    },
    {
      "cell_type": "markdown",
      "source": [
        "####Ejercicio 4\n",
        "\n",
        "Use el tercer argumento de la función range() para hacer una lista de los números impares del 1 al 20. Use un bucle for para imprimir cada número."
      ],
      "metadata": {
        "id": "jlreB-xtgC1S"
      }
    },
    {
      "cell_type": "code",
      "source": [
        "# CREAMOS UNA LISTA VACÍA.\n",
        "Impares = []\n",
        "\n",
        "# USAMOS UN BUCLE FOR EN DONDE DEFINIMOS UN RANGO DEL 1 AL 21.\n",
        "for value in range(1, 21):\n",
        "\n",
        "    # CREAMOS UNA VARIABLE EN DONDE GUARDARÁ TEMPORALMENTE LA VALORES OBTENIDOS DE LA OPERACIÓN DE RESTO.\n",
        "    Impar = value % 2\n",
        "\n",
        "    # CREAMOS UNA CONDICIÓN 'if'. ESTA CONDICIÓN SE CUMPLIRÁ SI LOS VALORES GUARDADOS EN LA VARIABLE 'Impar' SON MAYORES A '0'.\n",
        "    # LOS NÚMEROS IMPARES SIEMPRE TENDRÁN UN RESTO SI SE DIVIDEN POR '2'.\n",
        "    if Impar > 0:\n",
        "\n",
        "      # SE AGREGARÁ A LA LISTA 'Impares' LOS VALORES 'value' QUE SE UTILIZADO EN LA OPERACIÓN DE RESTO.\n",
        "      Impares.append(value)    \n",
        "\n",
        "# IMPRIMIMOS LA LISTA PARA VISUALIZAR SUS ELEMENTOS.\n",
        "print(Impares)"
      ],
      "metadata": {
        "id": "p-McdZtygIzC",
        "outputId": "e5136506-a50a-41fa-f4c6-34b8269b6bc0",
        "colab": {
          "base_uri": "https://localhost:8080/"
        }
      },
      "execution_count": null,
      "outputs": [
        {
          "output_type": "stream",
          "name": "stdout",
          "text": [
            "[1, 3, 5, 7, 9, 11, 13, 15, 17, 19]\n"
          ]
        }
      ]
    },
    {
      "cell_type": "markdown",
      "source": [
        "####Ejercicio 5\n",
        "\n",
        "Haga una lista de los múltiplos de 3 de 3 a 30. Use un ciclo for para imprimir los números en su lista."
      ],
      "metadata": {
        "id": "iwghu7t3kNKb"
      }
    },
    {
      "cell_type": "code",
      "source": [
        "# CREAMOS UNA LISTA VACÍA.\n",
        "Mult_3 = []\n",
        "\n",
        "# USAMOS UN BUCLE FOR EN DONDE DEFINIMOS UN RANGO DEL 1 AL 31.\n",
        "for value in range(1, 31):\n",
        "\n",
        "  # CREAMOS UNA VARIABLE EN DONDE GUARDARÁ TEMPORALMENTE LA VALORES OBTENIDOS DE LA OPERACIÓN DE RESTO.\n",
        "  multiplo = value % 3\n",
        "\n",
        "  # CREAMOS UNA CONDICIÓN 'if'. ESTA CONDICIÓN SE CUMPLIRÁ SI LOS VALORES GUARDADOS EN LA VARIABLE 'multiplo' SON IGUALES A '0'.\n",
        "  # LOS NÚMEROS MÚLTIPLOS DE '3' SIEMPRE TENDRÁN UN RESTO IGUAL A '0'.\n",
        "  if multiplo == 0:\n",
        "\n",
        "    # SE AGREGARÁ A LA LISTA 'Mult_3' LOS VALORES 'value' QUE SE UTILIZADO EN LA OPERACIÓN DE RESTO.\n",
        "    Mult_3.append(value)\n",
        "\n",
        "# IMPRIMIMOS LA LISTA PARA VISUALIZAR SUS ELEMENTOS.\n",
        "print(Mult_3)"
      ],
      "metadata": {
        "id": "5xYUVrCkkSjO",
        "outputId": "45ed0b8e-961a-48c7-f41d-b9cd48c62ccf",
        "colab": {
          "base_uri": "https://localhost:8080/"
        }
      },
      "execution_count": null,
      "outputs": [
        {
          "output_type": "stream",
          "name": "stdout",
          "text": [
            "[3, 6, 9, 12, 15, 18, 21, 24, 27, 30]\n"
          ]
        }
      ]
    },
    {
      "cell_type": "markdown",
      "source": [
        "####Ejercicio 6\n",
        "\n",
        "Haga una lista de los primeros 10 cubos (es decir, el cubo de cada número entero del 1 al 10) y use un ciclo for para imprimir el valor de cada cubo."
      ],
      "metadata": {
        "id": "C0TPIt6clLFb"
      }
    },
    {
      "cell_type": "code",
      "source": [
        "# CREAMOS UNA LISTA VACÍA.\n",
        "Cubo = []\n",
        "\n",
        "# USAMOS UN BUCLE FOR EN DONDE DEFINIMOS UN RANGO DEL 1 AL 11.\n",
        "for value in range(1, 11):\n",
        "\n",
        "  # CREAMOS UNA VARIABLE EN DONDE GUARDARÁ TEMPORALMENTE LA VALORES OBTENIDOS DE LA OPERACIÓN DE NÚMEROS ELEVADO AL CUBO.\n",
        "  cubos = value ** 3\n",
        "\n",
        "  # SE AGREGARÁ A LA LISTA 'Cubo' LOS VALORES DE LA VARIABLE 'cubos'.\n",
        "  Cubo.append(cubos)\n",
        "\n",
        "# IMPRIMIMOS LA LISTA PARA VISUALIZAR SUS ELEMENTOS.\n",
        "print(Cubo)"
      ],
      "metadata": {
        "id": "OlaVvlF4lKgu",
        "outputId": "d87c138c-1b3f-4181-e2c7-1f7e40dffc21",
        "colab": {
          "base_uri": "https://localhost:8080/"
        }
      },
      "execution_count": null,
      "outputs": [
        {
          "output_type": "stream",
          "name": "stdout",
          "text": [
            "[1, 8, 27, 64, 125, 216, 343, 512, 729, 1000]\n"
          ]
        }
      ]
    },
    {
      "cell_type": "markdown",
      "source": [
        "####Ejercicio 7\n",
        "\n",
        "Use una lista de comprensión para generar una lista de los primeros 10 cubos."
      ],
      "metadata": {
        "id": "Vo1JLJD6mNDQ"
      }
    },
    {
      "cell_type": "code",
      "source": [
        "# CREAMOS UNA LISTA DE COMPRENSIÓN, EN DONDE INCLUIREMOS UNA LÍNEA DE CÓDIGO PARA OBTENER SUS ELEMENTOS DE UNA MANERA DIRECTA, EN ESTE CASO USAREMOS UN BUCLE FOR.\n",
        "# LOS VALORES OBTENIDOS DE BUCLE FOR DE AGREGARÁN COMO ELEMENTOS DE LA LISTA 'Cubo'.\n",
        "Cubo = [value ** 3 for value in range(1, 11)]\n",
        "\n",
        "# IMPRIMIMOS LA LISTA PARA VISUALIZAR SUS ELEMENTOS.\n",
        "print(Cubo)"
      ],
      "metadata": {
        "id": "HDU_c-SGmRuA",
        "outputId": "5fb26d56-0c33-4ee4-8820-03a3c10bee8d",
        "colab": {
          "base_uri": "https://localhost:8080/"
        }
      },
      "execution_count": null,
      "outputs": [
        {
          "output_type": "stream",
          "name": "stdout",
          "text": [
            "[1, 8, 27, 64, 125, 216, 343, 512, 729, 1000]\n"
          ]
        }
      ]
    },
    {
      "cell_type": "markdown",
      "source": [
        "####Ejercicio 8\n",
        "\n",
        "Utilizando alguna lista definida anteriormente:\n",
        "\n",
        "Imprima el mensaje Los tres primeros elementos de la lista son:. Luego use un slice para imprimir los primeros tres elementos de la lista de ese programa.\n",
        "\n",
        "Imprima el mensaje Tres elementos de la mitad de la lista son:. Use un slice para imprimir tres elementos del medio de la lista.\n",
        "\n",
        "Imprima el mensaje Los últimos tres elementos de la lista son:. Utilice un slice para imprimir los últimos tres elementos de la lista."
      ],
      "metadata": {
        "id": "ZxyzLTX6nQbf"
      }
    },
    {
      "cell_type": "code",
      "source": [
        "# CREAMOS UNA LISTA Y EN ELLAS GUARDAREMOS ALGUNOS ELEMENTOS.\n",
        "# LAS POSICIONES DENTRO DE UNA LISTA, SI EMPIEZA DE IZQUIERDA A DERECHA ES '0', '1', '2' ... Y SI EMPIEZA DE DERECHA A IZQUIERDA ES 0', '-1', '-2' ...\n",
        "my_list = ['Abel','Aldair','Cesar','Freed','Giancarlo']\n",
        "\n",
        "# IMPRIMIMOS UN MENSAJE.\n",
        "print(\"Los tres primeros elementos de la lista son:\")\n",
        "\n",
        "# IMPRIMIMOS UN SLICE QUE TOMA LOS ELEMENTOS QUE EMPIECEN EN LA POSICIÓN '0' Y TERMINA EN LA POSICIÓN '3', PERO ESTE TOMA UN VALOR ANTERIOR EN DONDE TERMINA.\n",
        "print(my_list[0:3])\n",
        "\n",
        "# IMPRIMIMOS UN MENSAJE.\n",
        "print(\"Tres elementos de la mitad de la lista son:\")\n",
        "\n",
        "# IMPRIMIMOS UN SLICE QUE TOMA LOS ELEMENTOS QUE EMPIECEN EN LA POSICIÓN '1' Y TERMINA EN LA POSICIÓN '4', PERO ESTE TOMA UN VALOR ANTERIOR EN DONDE TERMINA.\n",
        "print(my_list[1:4])\n",
        "\n",
        "# IMPRIMIMOS UN MENSAJE.\n",
        "print(\"Los últimos tres elementos de la lista son:\")\n",
        "\n",
        "# IMPRIMIMOS UN SLICE QUE TOMA LOS ELEMENTOS QUE EMPIECEN EN LA POSICIÓN '-3' PERO SI NO SE DETERMINA UNA POSICIÓN EN DONDE TERMINA, ESTE TOMA TODOS LOS ELEMENTOS A LA DERECHA.\n",
        "print(my_list[-3:])\n"
      ],
      "metadata": {
        "id": "Lry1JdAOnZdQ",
        "outputId": "39879b74-f47f-4c84-939d-d88831a9af62",
        "colab": {
          "base_uri": "https://localhost:8080/"
        }
      },
      "execution_count": null,
      "outputs": [
        {
          "output_type": "stream",
          "name": "stdout",
          "text": [
            "Los tres primeros elementos de la lista son:\n",
            "['Abel', 'Aldair', 'Cesar']\n",
            "Tres elementos de la mitad de la lista son:\n",
            "['Aldair', 'Cesar', 'Freed']\n",
            "Los últimos tres elementos de la lista son:\n",
            "['Cesar', 'Freed', 'Giancarlo']\n"
          ]
        }
      ]
    },
    {
      "cell_type": "markdown",
      "source": [
        "####Ejercicio 9\n",
        "\n",
        "Haga una copia de la lista de pizzas y llámela friend_pizzas. Luego, haz lo siguiente:\n",
        "\n",
        "Agregue una nueva pizza a la lista original.\n",
        "Agrega una pizza diferente a la lista friend_pizzas.\n",
        "Demuestra que tienes dos listas separadas. Imprima el mensaje Mis pizzas favoritas son: y luego use un bucle for para imprimir la primera lista. Imprima el mensaje Las pizzas favoritas de mi amigo son: y luego use un bucle for para imprimir la segunda lista. Asegúrese de que cada pizza nueva se almacene en la lista adecuada."
      ],
      "metadata": {
        "id": "fm1-cog9n08n"
      }
    },
    {
      "cell_type": "code",
      "source": [
        "# CREAMOS UNA LISTA Y EN ELLA GUARDAREMOS ALGUNOS ELEMENTOS.\n",
        "list_pizza = [\"Pizza Peperoni\",\"Pizza Hawaiana\",\"Pizza Vegetariana\"]\n",
        "\n",
        "# CREAMOS UNA LISTA 'friend_pizza' QUE SERÁ UNA COPIA DE LA LISTA 'list_pizza'.\n",
        "friend_pizza = list_pizza[:]"
      ],
      "metadata": {
        "id": "BCAdfXdXn6l7"
      },
      "execution_count": null,
      "outputs": []
    },
    {
      "cell_type": "code",
      "source": [
        "# AGREGAMOS UN ELEMENTO NUEVO PARA LA LISTA 'list_pizza'.\n",
        "list_pizza.append(\"Pizza Napolitana\")\n",
        "\n",
        "# AGREGAMOS UN ELEMENTO NUEVO PARA LA LISTA 'friend_pizza'.\n",
        "friend_pizza.append(\"Pizza Queso\")"
      ],
      "metadata": {
        "id": "L7bQpzbOpZ-Q"
      },
      "execution_count": null,
      "outputs": []
    },
    {
      "cell_type": "code",
      "source": [
        "# IMPRIMIMOS UN MENSAJE.\n",
        "print(\"Mis pizzas favoritas son: \")\n",
        "\n",
        "# USAMOS UN BUCLE FOR PARA RECORRER LA LISTA 'list_pizza'.\n",
        "for pizza in list_pizza:\n",
        "\n",
        "  # IMPRIMIMOS CADA ELEMENTO DE LA LISTA 'list_pizza'.  \n",
        "  print(pizza)"
      ],
      "metadata": {
        "id": "n1PPkWTuqD-1",
        "outputId": "658a7a39-072e-4837-a2c0-2e48060789b9",
        "colab": {
          "base_uri": "https://localhost:8080/"
        }
      },
      "execution_count": null,
      "outputs": [
        {
          "output_type": "stream",
          "name": "stdout",
          "text": [
            "Mis pizzas favoritas son: \n",
            "Pizza Peperoni\n",
            "Pizza Hawaiana\n",
            "Pizza Vegetariana\n",
            "Pizza Napolitana\n"
          ]
        }
      ]
    },
    {
      "cell_type": "code",
      "source": [
        "# IMPRIMIMOS UN MENSAJE.\n",
        "print(\"Las pizzas favoritas de mi amigo son: \")\n",
        "\n",
        "# USAMOS UN BUCLE FOR PARA RECORRER LA LISTA 'friend_pizza'.\n",
        "for pizza in friend_pizza:\n",
        "\n",
        "  # IMPRIMIMOS CADA ELEMENTO DE LA LISTA 'friend_pizza'.    \n",
        "  print(pizza)\n"
      ],
      "metadata": {
        "id": "KQvbH0PbqfL2",
        "outputId": "b9cc6752-a6b1-4097-e240-1a4b158e3c7d",
        "colab": {
          "base_uri": "https://localhost:8080/"
        }
      },
      "execution_count": null,
      "outputs": [
        {
          "output_type": "stream",
          "name": "stdout",
          "text": [
            "Las pizzas favoritas de mi amigo son: \n",
            "Pizza Peperoni\n",
            "Pizza Hawaiana\n",
            "Pizza Vegetariana\n",
            "Pizza Queso\n"
          ]
        }
      ]
    },
    {
      "cell_type": "markdown",
      "source": [
        "####Ejercicio 10\n",
        "\n",
        "Un restaurante estilo buffet ofrece solo cinco alimentos básicos. Piense en cinco alimentos simples y guárdelos en una tupla.\n",
        "\n",
        "Use un bucle for para imprimir cada comida que ofrece el restaurante. Intente modificar uno de los elementos y asegúrese de que Python rechace el cambio.\n",
        "El restaurante cambia su menú, reemplazando dos de los artículos con comidas diferentes. Agregue una línea que reescriba la tupla y luego use un ciclo for para imprimir cada uno de los elementos en el menú revisado."
      ],
      "metadata": {
        "id": "9N4fNNcRzOb0"
      }
    },
    {
      "cell_type": "code",
      "source": [
        "# CREAMOS UNA TUPLA Y EN ELLA GUARDAREMOS ALGUNOS ELEMENTOS.\n",
        "my_menu = ('Chaufa','Ceviche','Aji de Gallina','Carapulcra','Parrilla')"
      ],
      "metadata": {
        "id": "WPporWuTzU76"
      },
      "execution_count": null,
      "outputs": []
    },
    {
      "cell_type": "code",
      "source": [
        "# USAMOS UN BUCLE FOR PARA RECORRER LA TUPLA 'my_menu'.\n",
        "for x in my_menu:\n",
        "    # IMPRIMIMOS UN MENSAJE PARA CADA ELEMENTO DE LA TUPLA 'my_menu'.\n",
        "    print(f'Uno de nuestros platillos es: {x}')"
      ],
      "metadata": {
        "id": "aRRd111N1qW0",
        "outputId": "71c29768-c343-41c6-ed5a-c8b067a9111f",
        "colab": {
          "base_uri": "https://localhost:8080/"
        }
      },
      "execution_count": null,
      "outputs": [
        {
          "output_type": "stream",
          "name": "stdout",
          "text": [
            "Uno de nuestros platillos es: Chaufa\n",
            "Uno de nuestros platillos es: Ceviche\n",
            "Uno de nuestros platillos es: Aji de Gallina\n",
            "Uno de nuestros platillos es: Carapulcra\n",
            "Uno de nuestros platillos es: Parrilla\n"
          ]
        }
      ]
    },
    {
      "cell_type": "code",
      "source": [
        "# UNA TUPLA NO PERMITE AGREGAR ALGÚN ELEMENTO YA QUE NO PUEDE SER MODIFICADO.\n",
        "# SI EJECUTAMOS ESTA LÍNEA DE CÓDIGO, HABRÁ UN ERROR.\n",
        "my_menu[4] = 'Estofado'"
      ],
      "metadata": {
        "id": "9mLyjjGI1rSE"
      },
      "execution_count": null,
      "outputs": []
    },
    {
      "cell_type": "code",
      "source": [
        "# PARA MODIFICAR UN TUPLA, SE DEBE HACER DIRECTAMENTE Y EN ESTE CASO SE HA MODIFICADO Y AGREGADO 2 ELEMENTOS.\n",
        "my_menu = ('Aeropuerto','Ceviche','Aji de Gallina','Carapulcra','Estofado')\n",
        "\n",
        "# USAMOS UN BUCLE FOR PARA RECORRER LA TUPLA 'my_menu'.\n",
        "for x in my_menu:\n",
        "\n",
        "  # IMPRIMIMOS UN MENSAJE PARA CADA ELEMENTO DE LA TUPLA 'my_menu'.\n",
        "  print(f'Uno de nuestros platillos es: {x}')"
      ],
      "metadata": {
        "id": "XqUhFdnv1wvp",
        "outputId": "b6ec7d74-9965-4aec-e2e0-f0487eafb7c7",
        "colab": {
          "base_uri": "https://localhost:8080/"
        }
      },
      "execution_count": null,
      "outputs": [
        {
          "output_type": "stream",
          "name": "stdout",
          "text": [
            "Uno de nuestros platillos es: Aeropuerto\n",
            "Uno de nuestros platillos es: Ceviche\n",
            "Uno de nuestros platillos es: Aji de Gallina\n",
            "Uno de nuestros platillos es: Carapulcra\n",
            "Uno de nuestros platillos es: Estofado\n"
          ]
        }
      ]
    },
    {
      "cell_type": "markdown",
      "source": [
        "####Ejercicio 11\n",
        "\n",
        "Usa un diccionario para almacenar información sobre una persona que conoces. Almacene su nombre, apellido, edad y la ciudad en la que vive. Debe tener claves como nombre, apellido, edad y ciudad. Imprima cada parte de información almacenada en su diccionario."
      ],
      "metadata": {
        "id": "GmO370Pj2VNb"
      }
    },
    {
      "cell_type": "code",
      "source": [
        "# CREAMOS UN DICCIONARIO CON CLAVES 'Nombre', 'Apellido', 'Edad' Y 'Ciudad'. TAMBIÉN LE ASIGNAMOS UN VALOR A CADA CLAVE.\n",
        "dict_persona = {'Nombre' : 'Maria',\n",
        "              'Apellido' : 'Montañez',\n",
        "              'Edad' : 55,\n",
        "              'Ciudad':'Lima'}\n",
        "\n",
        "# IMPRIMIMOS UN MENSAJE Y EL VALOR DE LA CLAVE 'Nombre'.\n",
        "print(f\"Nombre: {dict_persona['Nombre']}\")\n",
        "\n",
        "# IMPRIMIMOS UN MENSAJE Y EL VALOR DE LA CLAVE 'Apellido'.\n",
        "print(f\"Apellido: {dict_persona['Apellido']}\")\n",
        "\n",
        "# IMPRIMIMOS UN MENSAJE Y EL VALOR DE LA CLAVE 'Edad'.\n",
        "print(f\"Edad: {dict_persona['Edad']}\")\n",
        "\n",
        "# IMPRIMIMOS UN MENSAJE Y EL VALOR DE LA CLAVE 'Ciudad'.\n",
        "print(f\"Ciudad: {dict_persona['Ciudad']}\")"
      ],
      "metadata": {
        "id": "_aaoEbuQ2ekg",
        "outputId": "0f3ce557-dd1b-4a77-d126-7734e0870507",
        "colab": {
          "base_uri": "https://localhost:8080/"
        }
      },
      "execution_count": null,
      "outputs": [
        {
          "output_type": "stream",
          "name": "stdout",
          "text": [
            "Nombre: Maria\n",
            "Apellido: Montañez\n",
            "Edad: 55\n",
            "Ciudad: Lima\n"
          ]
        }
      ]
    },
    {
      "cell_type": "markdown",
      "source": [
        "####Ejercicio 12\n",
        "\n",
        "Use un diccionario para almacenar los números favoritos de las personas. Piensa en cinco nombres y utilízalos como llaves en tu diccionario. Piense en un número favorito para cada persona y guárdelo como un valor en su diccionario. Escriba el nombre de cada persona y su número favorito."
      ],
      "metadata": {
        "id": "wIlwiMnB29pl"
      }
    },
    {
      "cell_type": "code",
      "source": [
        "# CREAMOS UN DICCIONARIO CON CLAVES 'Jose', 'Carlos', 'Ana', 'Maria' Y 'Juan'. TAMBIÉN LE ASIGNAMOS UN VALOR A CADA CLAVE.\n",
        "dict_num = {'Jose' : 2,\n",
        "              'Carlos' : 5,\n",
        "              'Ana' : 10,\n",
        "              'Maria': 11,\n",
        "              'Juan': 20}\n",
        "\n",
        "# IMPRIMIMOS UN MENSAJE Y EL VALOR DE LA CLAVE 'Jose'.\n",
        "print(f\"El número favorito de José es: {dict_num['Jose']}\")\n",
        "\n",
        "# IMPRIMIMOS UN MENSAJE Y EL VALOR DE LA CLAVE 'Carlos'.\n",
        "print(f\"El número favorito de Carlos es: {dict_num['Carlos']}\")\n",
        "\n",
        "# IMPRIMIMOS UN MENSAJE Y EL VALOR DE LA CLAVE 'Ana'.\n",
        "print(f\"El número favorito de Ana es: {dict_num['Ana']}\")\n",
        "\n",
        "# IMPRIMIMOS UN MENSAJE Y EL VALOR DE LA CLAVE 'Maria'.\n",
        "print(f\"El número favorito de Maria es: {dict_num['Maria']}\")\n",
        "\n",
        "# IMPRIMIMOS UN MENSAJE Y EL VALOR DE LA CLAVE 'Juan'.\n",
        "print(f\"El número favorito de Juan es: {dict_num['Juan']}\")"
      ],
      "metadata": {
        "id": "VS_3t6QT3BWT",
        "outputId": "cc397782-7b91-4eba-b6e6-81116468ccf8",
        "colab": {
          "base_uri": "https://localhost:8080/"
        }
      },
      "execution_count": null,
      "outputs": [
        {
          "output_type": "stream",
          "name": "stdout",
          "text": [
            "El número favorito de José es: 2\n",
            "El número favorito de Carlos es: 5\n",
            "El número favorito de Ana es: 10\n",
            "El número favorito de Maria es: 11\n",
            "El número favorito de Juan es: 20\n"
          ]
        }
      ]
    },
    {
      "cell_type": "markdown",
      "source": [
        "####Ejercicio 13\n",
        "\n",
        "Piense en cinco palabras de programación que haya aprendido. Utilice estas palabras como llaves en su glosario y almacene sus significados como valores.\n",
        "\n",
        "Imprima cada palabra y su significado como una salida con un formato ordenado. Puede imprimir la palabra seguida de dos puntos y luego su significado, o imprimir la palabra en una línea y luego imprimir su significado con sangría en una segunda línea. Utilice el carácter de nueva línea (\\n) para insertar una línea en blanco entre cada par de palabra y significado en su salida."
      ],
      "metadata": {
        "id": "PQEetEK45HhD"
      }
    },
    {
      "cell_type": "code",
      "source": [
        "# CREAMOS UN DICCIONARIO CON CLAVES 'Concatenar', 'Código', 'Librería', 'Código Fuente' Y 'Sintaxis'. TAMBIÉN LE ASIGNAMOS UN VALOR A CADA CLAVE.\n",
        "glosario = {'Concatenar' : 'Enlazar o vincular hechos o ideas que guardan entre sí una relación lógica o de causa y efecto.', \n",
        "                'Código' : 'Son las instrucciones que escribe un programador en un lenguaje de programación. El código es la etapa donde un programador puede leer y modificar un programa de computadora.',\n",
        "                'Librería' : 'Una librería es una colección de funciones prediseñadas para realizar tareas en específico.',\n",
        "                'Código Fuente':'Texto de un programa antes de ser complilado. El texto se crea y edita utilizando en editor ordinario y contiene caracteres normales, legibles.',\n",
        "                'Sintaxis': 'Un conjunto de reglas que especifica la composición de programas a partir de palabras reservadas, símbolos y caracteres.'}\n"
      ],
      "metadata": {
        "id": "XSrf5LgH5LAq"
      },
      "execution_count": null,
      "outputs": []
    },
    {
      "cell_type": "code",
      "source": [
        "# USAMOS UN BUCLE FOR PARA REALIZAR UN LOOP AL DICCIONARIO 'glosario'.\n",
        "for key, value in glosario.items():\n",
        "\n",
        "    # IMPRIMIMOS UN MENSAJE Y MOSTRAMOS LOS VALORES GUARDADOS EN 'Key' QUE SERÍA LA CLAVE DEL DICCIONARIO.\n",
        "    print(f\"\\nPalabra: {key}\")\n",
        "\n",
        "    # IMPRIMIMOS UN MENSAJE Y MOSTRAMOS LOS VALORES GUARDADOS EN 'value' QUE ESTÁ ASIGNADO A UNA CLAVE DEL DICCIONARIO.\n",
        "    print(f\"Significado: {value}\")"
      ],
      "metadata": {
        "id": "heROTxQe8zn2",
        "outputId": "7b75ce4c-2640-4ddd-9dfc-c3cac06f0a23",
        "colab": {
          "base_uri": "https://localhost:8080/"
        }
      },
      "execution_count": null,
      "outputs": [
        {
          "output_type": "stream",
          "name": "stdout",
          "text": [
            "\n",
            "Palabra: Concatenar\n",
            "Significado: Enlazar o vincular hechos o ideas que guardan entre sí una relación lógica o de causa y efecto.\n",
            "\n",
            "Palabra: Código\n",
            "Significado: Son las instrucciones que escribe un programador en un lenguaje de programación. El código es la etapa donde un programador puede leer y modificar un programa de computadora.\n",
            "\n",
            "Palabra: Librería\n",
            "Significado: Una librería es una colección de funciones prediseñadas para realizar tareas en específico.\n",
            "\n",
            "Palabra: Código Fuente\n",
            "Significado: Texto de un programa antes de ser complilado. El texto se crea y edita utilizando en editor ordinario y contiene caracteres normales, legibles.\n",
            "\n",
            "Palabra: Sintaxis\n",
            "Significado: Un conjunto de reglas que especifica la composición de programas a partir de palabras reservadas, símbolos y caracteres.\n"
          ]
        }
      ]
    },
    {
      "cell_type": "markdown",
      "source": [
        "####Ejercicio 14\n",
        "\n",
        "Haga un diccionario que contenga tres ríos principales y el país por el que pasa cada río. Un par clave-valor podría ser 'nilo': 'egipto'.\n",
        "\n",
        "* Use un bucle para imprimir una oración sobre cada río, como El Nilo atraviesa Egipto.\n",
        "* Utilice un bucle para imprimir el nombre de cada río incluido en el diccionario.\n",
        "* Use un bucle para imprimir el nombre de cada país incluido en el diccionario.\n"
      ],
      "metadata": {
        "id": "tL3ZuzQwGwZk"
      }
    },
    {
      "cell_type": "code",
      "source": [
        "# CREAMOS UN DICCIONARIO CON CLAVES 'Nilo', 'Sena', 'Támesis', 'Volga' Y 'Ebro'. TAMBIÉN LE ASIGNAMOS UN VALOR A CADA CLAVE.\n",
        "dict_PaisRio = {'Nilo' : 'Egipto', \n",
        "                'Sena' : 'Francia',\n",
        "                'Támesis' : 'Inglaterra',\n",
        "                'Volga' : 'Rusia',\n",
        "                'Ebro' : 'España'}                "
      ],
      "metadata": {
        "id": "95dE3x9OHTHN"
      },
      "execution_count": null,
      "outputs": []
    },
    {
      "cell_type": "code",
      "source": [
        "# USAMOS UN BUCLE FOR PARA REALIZAR UN LOOP AL DICCIONARIO 'dict_PaisRio'.\n",
        "for rio, pais in dict_PaisRio.items():\n",
        "\n",
        "    # IMPRIMIMOS UN MENSAJE Y MOSTRAMOS LOS VALORES GUARDADOS EN 'rio' QUE SERÍA LA CLAVE DEL DICCIONARIO Y 'pais' QUE ESTÁ ASIGNADO A UNA CLAVE DEL DICCIONARIO.\n",
        "    print(f\"El río {rio} atraviesa {pais}.\")"
      ],
      "metadata": {
        "id": "nuRq7AHhKn9h",
        "outputId": "cffe3fc2-23ae-4d62-9c53-f33ed5ce0848",
        "colab": {
          "base_uri": "https://localhost:8080/"
        }
      },
      "execution_count": null,
      "outputs": [
        {
          "output_type": "stream",
          "name": "stdout",
          "text": [
            "El río Nilo atraviesa Egipto.\n",
            "El río Sena atraviesa Francia.\n",
            "El río Támesis atraviesa Inglaterra.\n",
            "El río Volga atraviesa Rusia.\n",
            "El río Ebro atraviesa España.\n"
          ]
        }
      ]
    },
    {
      "cell_type": "code",
      "source": [
        "# USAMOS UN BUCLE FOR PARA REALIZAR UN LOOP AL DICCIONARIO 'dict_PaisRio'.\n",
        "for rio in sorted(dict_PaisRio.keys()):\n",
        "\n",
        "    # IMPRIMIMOS UN MENSAJE Y MOSTRAMOS LOS VALORES GUARDADOS EN 'rio' QUE SERÍA LA CLAVE DEL DICCIONARIO.\n",
        "    print(f\"El río {rio}.\")"
      ],
      "metadata": {
        "id": "gLml45M5LmOa",
        "outputId": "e0ee8e82-85cd-4cf7-8ad7-9e74cf3697c4",
        "colab": {
          "base_uri": "https://localhost:8080/"
        }
      },
      "execution_count": null,
      "outputs": [
        {
          "output_type": "stream",
          "name": "stdout",
          "text": [
            "El río Ebro.\n",
            "El río Nilo.\n",
            "El río Sena.\n",
            "El río Támesis.\n",
            "El río Volga.\n"
          ]
        }
      ]
    },
    {
      "cell_type": "code",
      "source": [
        "# USAMOS UN BUCLE FOR PARA REALIZAR UN LOOP AL DICCIONARIO 'dict_PaisRio'.\n",
        "for rio, pais in dict_PaisRio.items():\n",
        "\n",
        "    # IMPRIMIMOS UN MENSAJE Y MOSTRAMOS LOS VALORES GUARDADOS EN 'pais' QUE ESTÁ ASIGNADO A UNA CLAVE DEL DICCIONARIO.\n",
        "    print(f\"El país de {pais}.\")"
      ],
      "metadata": {
        "id": "Oz-LKpoZL3qw",
        "outputId": "f1789c3b-2571-4795-d5be-8e05a30838ec",
        "colab": {
          "base_uri": "https://localhost:8080/"
        }
      },
      "execution_count": null,
      "outputs": [
        {
          "output_type": "stream",
          "name": "stdout",
          "text": [
            "El país de Egipto.\n",
            "El país de Francia.\n",
            "El país de Inglaterra.\n",
            "El país de Rusia.\n",
            "El país de España.\n"
          ]
        }
      ]
    },
    {
      "cell_type": "markdown",
      "source": [
        "####Ejercicio 15\n",
        "\n",
        "Haz una lista de las personas que deberían participar en la encuesta de idiomas favoritos. Incluye algunos nombres que ya estén en el diccionario y otros que no. Recorra la lista de personas que deberían realizar la encuesta. Si ya han realizado la encuesta, imprima un mensaje agradeciéndoles por responder. Si aún no han realizado la encuesta, imprima un mensaje invitándoles a realizar la encuesta."
      ],
      "metadata": {
        "id": "maYftVkVN_9B"
      }
    },
    {
      "cell_type": "code",
      "source": [
        "# CREAMOS UN DICCIONARIO CON CLAVES 'Andres', 'Luis', 'Camila', Sofia' Y 'Juan'. TAMBIÉN LE ASIGNAMOS UN VALOR A CADA CLAVE.\n",
        "dict_person = {'Andres':'Aleman','Luis':'Ingles','Camila':'Aleman','Sofia':'Aleman','Juan':'Aleman'}\n",
        "\n",
        "# CREAMOS UNA LISTA Y EN ELLA GUARDAREMOS ALGUNOS ELEMENTOS.\n",
        "list_person = ['Andres','Luis','Juan','Carmen','Sandro','José','Manuel','Sofia', 'Camila']"
      ],
      "metadata": {
        "id": "BYUpYJU6OKJE"
      },
      "execution_count": null,
      "outputs": []
    },
    {
      "cell_type": "code",
      "source": [
        "# REALIZAMOS UNA COPIA DE LA LISTA 'list_person' Y LO GUARDAREMOS EN LA LISTA 'person_noencu'.\n",
        "person_noencu = list(list_person)\n",
        "\n",
        "# CREAMOS UNA LISTA VACÍA.\n",
        "person_encue = []\n",
        "\n",
        "# USAMOS UN BUCLE FOR PARA REALIZAR UN LOOP AL DICCIONARIO 'dict_person'.\n",
        "for persona in sorted(dict_person.keys()):\n",
        "\n",
        "  # USAMOS UN BUCLE FOR PARA RECORRER LA LISTA 'person_noencu'.\n",
        "  for person in person_noencu:    \n",
        "    \n",
        "    # CREAMOS UNA CONDICIÓN 'if'. ESTA CONDICIÓN SE CUMPLIRÁ SI UN ELEMENTO DE LA LISTA 'person_noencu' ES IGUAL A UNA CLAVE DEL DICCIONARIO 'dict_person'. \n",
        "    if persona == person:\n",
        "          \n",
        "      # USAMOS EL 'remove' PARA IR ELIMINANDO CADA ELEMENTO DE LA LISTA 'person_noencu' Y QUE ES IGUAL AL VALOR QUE HA CUMPLIDO CON LA CONDICIÓN 'if'.\n",
        "      person_noencu.remove(person)\n",
        "\n",
        "      # AGREGAMOS CADA VALOR COMO ELEMENTO EN LA LISTA 'person_encue'  QUE HA CUMPLIDO CON LA CONDICIÓN 'if'.\n",
        "      person_encue.append(person)\n",
        "\n",
        "# USAMOS UN BUCLE FOR PARA RECORRER LA LISTA 'person_encue'.\n",
        "for encuestado in person_encue:\n",
        "\n",
        "  # IMPRIMIMOS UN MENSAJE Y MOSTRAMOS CADA ELEMENTO DE LISTA 'person_encue'.\n",
        "  # PERSONAS QUE HAN RELIZADO LA ENCUESTA.\n",
        "  print(f\"{encuestado}, muchas gracias por haber respondido anteriormente a nuestra encuesta.\")\n",
        "\n",
        "\n",
        "# USAMOS UN BUCLE FOR PARA RECORRER LA LISTA 'person_noencu'.\n",
        "for noencuestado in person_noencu:\n",
        "\n",
        "  # IMPRIMIMOS UN MENSAJE Y MOSTRAMOS CADA ELEMENTO DE LISTA 'person_noencu'.\n",
        "  # PERSONAS QUE NO HAN RELIZADO LA ENCUESTA.\n",
        "  print(f\"{noencuestado}, le invitamos a realizar nuestra encuesta.\")        \n",
        "         "
      ],
      "metadata": {
        "id": "V8NtP_gKSk0M",
        "outputId": "d87681f2-8907-4085-a96f-119f027f394f",
        "colab": {
          "base_uri": "https://localhost:8080/"
        }
      },
      "execution_count": null,
      "outputs": [
        {
          "output_type": "stream",
          "name": "stdout",
          "text": [
            "Andres, muchas gracias por haber respondido anteriormente a nuestra encuesta.\n",
            "Camila, muchas gracias por haber respondido anteriormente a nuestra encuesta.\n",
            "Juan, muchas gracias por haber respondido anteriormente a nuestra encuesta.\n",
            "Luis, muchas gracias por haber respondido anteriormente a nuestra encuesta.\n",
            "Sofia, muchas gracias por haber respondido anteriormente a nuestra encuesta.\n",
            "Carmen, le invitamos a realizar nuestra encuesta.\n",
            "Sandro, le invitamos a realizar nuestra encuesta.\n",
            "José, le invitamos a realizar nuestra encuesta.\n",
            "Manuel, le invitamos a realizar nuestra encuesta.\n"
          ]
        }
      ]
    },
    {
      "cell_type": "markdown",
      "source": [
        "####Ejercicio 16\n",
        "\n",
        "Cree tres nuevos diccionarios que representen a diferentes personas y almacene los tres diccionarios en una lista llamada personas. Recorra su lista de personas. Mientras recorre la lista, imprima todo lo que sabe sobre cada persona."
      ],
      "metadata": {
        "id": "4vp5lkT838Jw"
      }
    },
    {
      "cell_type": "code",
      "source": [
        "# CREAMOS UN DICCIONARIO CON CLAVES 'Nombre' Y 'Edad'. TAMBIÉN LE ASIGNAMOS UN VALOR A CADA CLAVE.\n",
        "person_1 = {'Nombre': 'Angel', 'Edad': 15}\n",
        "\n",
        "# CREAMOS UN DICCIONARIO CON CLAVES 'Nombre', 'Edad' Y 'País'. TAMBIÉN LE ASIGNAMOS UN VALOR A CADA CLAVE.\n",
        "person_2 = {'Nombre': 'Martha', 'Edad': 10, 'País' : 'Francia'}\n",
        "\n",
        "# CREAMOS UN DICCIONARIO CON CLAVES 'Nombre', 'País' Y 'Celular'. TAMBIÉN LE ASIGNAMOS UN VALOR A CADA CLAVE.\n",
        "person_3 = {'Nombre': 'Alfredo', 'País': 'Perú', 'Celular' : 745465111}\n",
        "\n",
        "# CREAMOS UNA LISTA EN DONDE ALMACENAREMOS LOS DICCIONARIOS.\n",
        "list_personas = [person_1, person_2, person_3]\n",
        "\n",
        "# USAMOS UN BUCLE FOR PARA RECORRER LA LISTA 'list_personas'.\n",
        "for persona in list_personas:\n",
        "\n",
        "  # IMPRIMIMOS CADA ELEMENTO DE LISTA 'list_personas'. PERO CADA ELEMENTO DE LA LISTA ES UN DICCIONARIO.\n",
        "  print(persona)"
      ],
      "metadata": {
        "id": "bmtdW4jN-Qp5",
        "outputId": "47e80795-d8ab-47d5-9964-227f5c931944",
        "colab": {
          "base_uri": "https://localhost:8080/"
        }
      },
      "execution_count": null,
      "outputs": [
        {
          "output_type": "stream",
          "name": "stdout",
          "text": [
            "{'Nombre': 'Angel', 'Edad': 15}\n",
            "{'Nombre': 'Martha', 'Edad': 10, 'País': 'Francia'}\n",
            "{'Nombre': 'Alfredo', 'País': 'Perú', 'Celular': 745465111}\n"
          ]
        }
      ]
    },
    {
      "cell_type": "markdown",
      "source": [
        "####Ejercicio 17\n",
        "\n",
        "Haga varios diccionarios, donde cada diccionario represente una mascota diferente. En cada diccionario, incluya el tipo de animal y el nombre del dueño. Guarde estos diccionarios en una lista llamada mascotas. A continuación, recorra su lista y, mientras lo hace, imprima todo lo que sepa sobre cada mascota."
      ],
      "metadata": {
        "id": "Cklq6TeH5Rf-"
      }
    },
    {
      "cell_type": "code",
      "source": [
        "# CREAMOS UN DICCIONARIO CON CLAVES 'Nombre', 'Tipo', 'Raza' Y 'Dueño'. TAMBIÉN LE ASIGNAMOS UN VALOR A CADA CLAVE.\n",
        "mascota_1 = {'Nombre': 'Bobby' , 'Tipo' : 'Perro' ,'Raza' : 'Labrador' , 'Dueño' : 'Fiorella'}\n",
        "\n",
        "# CREAMOS UN DICCIONARIO CON CLAVES 'Nombre', 'Tipo', 'Raza' Y 'Dueño'. TAMBIÉN LE ASIGNAMOS UN VALOR A CADA CLAVE.\n",
        "mascota_2 = {'Nombre': 'Manchas' , 'Tipo' : 'Gato' ,'Raza' : 'Siamés' , 'Dueño' : 'Carlos'}\n",
        "\n",
        "# CREAMOS UN DICCIONARIO CON CLAVES 'Nombre', 'Tipo', 'Raza' Y 'Dueño'. TAMBIÉN LE ASIGNAMOS UN VALOR A CADA CLAVE.\n",
        "mascota_3 = {'Nombre': 'Kitty' , 'Tipo' : 'Gato' ,'Raza' : 'Montés' , 'Dueño' : 'Diana'}\n",
        "\n",
        "# CREAMOS UNA LISTA EN DONDE ALMACENAREMOS LOS DICCIONARIOS.\n",
        "list_mascotas = [mascota_1, mascota_2, mascota_3]\n",
        "\n",
        "\n",
        "# USAMOS UN BUCLE FOR PARA RECORRER LA LISTA 'list_mascotas'.\n",
        "for mascota in list_mascotas:\n",
        "\n",
        "  # IMPRIMIMOS UN MENSAJE.\n",
        "  print(f\"\\nInformación sobre la mascota:\")\n",
        "\n",
        "  # IMPRIMIMOS CADA ELEMENTO DE LISTA 'list_mascotas'. PERO CADA ELEMENTO DE LA LISTA ES UN DICCIONARIO.\n",
        "  print(mascota)"
      ],
      "metadata": {
        "id": "PH6X3Ipr5ZkQ",
        "outputId": "ce5dd54c-d023-4554-c353-a1584b0c87bc",
        "colab": {
          "base_uri": "https://localhost:8080/"
        }
      },
      "execution_count": null,
      "outputs": [
        {
          "output_type": "stream",
          "name": "stdout",
          "text": [
            "\n",
            "Información sobre la mascota:\n",
            "{'Nombre': 'Bobby', 'Tipo': 'Perro', 'Raza': 'Labrador', 'Dueño': 'Fiorella'}\n",
            "\n",
            "Información sobre la mascota:\n",
            "{'Nombre': 'Manchas', 'Tipo': 'Gato', 'Raza': 'Siamés', 'Dueño': 'Carlos'}\n",
            "\n",
            "Información sobre la mascota:\n",
            "{'Nombre': 'Kitty', 'Tipo': 'Gato', 'Raza': 'Montés', 'Dueño': 'Diana'}\n"
          ]
        }
      ]
    },
    {
      "cell_type": "markdown",
      "source": [
        "####Ejercicio 18\n",
        "\n",
        "Haga un diccionario llamado lugares_favoritos. Piense en tres nombres para usar como llaves en el diccionario y almacene de uno a tres lugares favoritos para cada persona. Recorre el diccionario e imprime el nombre de cada persona y sus lugares favoritos."
      ],
      "metadata": {
        "id": "vFMdDZNr7n5Y"
      }
    },
    {
      "cell_type": "code",
      "source": [
        "# CREAMOS UN DICCIONARIO CON CLAVES 'Raul', 'Jose' Y 'Josselyn'. TAMBIÉN LE ASIGNAMOS UN VALOR A CADA CLAVE, PERO EN ESTE CASO EL VALOR PUEDE SER UNA LISTA CON UNO O MUCHOS ELEMENTOS.\n",
        "lugares_favoritos = {'Raul' : ['Macchu Picchu','El Misti'], \n",
        "                     'Jose' : ['El colca','Cerro Azul','El huascarán'], \n",
        "                     'Josselyn': ['Paracas']}\n",
        "\n",
        "# USAMOS UN BUCLE FOR PARA REALIZAR UN LOOP AL DICCIONARIO 'lugares_favoritos'.\n",
        "for nombre, lugar_favorito in lugares_favoritos.items():\n",
        "\n",
        "  # IMPRIMIMOS UN MENSAJE Y MOSTRAMOS LOS VALORES GUARDADOS EN 'nombre' QUE SERÍA LA CLAVE DEL DICCIONARIO.\n",
        "  print(f\"\\nEl lugar favorito de {nombre} es:\")\n",
        "\n",
        "  # USAMOS UN BUCLE FOR PARA RECORRER LOS ELEMENTOS DE 'lugar_favorito' DEL DICCIONARIO 'lugares_favoritos'. 'lugar_favorito' ES TRATADO POR EL BUCLE FOR COMO UNA LISTA.\n",
        "  for lugar in lugar_favorito:\n",
        "\n",
        "    # IMPRIMIMOS LOS ELEMENTOS DE 'lugar_favorito'.\n",
        "    print(f\"\\t{lugar}\")"
      ],
      "metadata": {
        "id": "90zPxFVs7tJ1",
        "outputId": "e20b9d8a-0388-4ec9-aa6b-5f826fc90833",
        "colab": {
          "base_uri": "https://localhost:8080/"
        }
      },
      "execution_count": null,
      "outputs": [
        {
          "output_type": "stream",
          "name": "stdout",
          "text": [
            "\n",
            "El lugar favorito de Raul es:\n",
            "\tMacchu Picchu\n",
            "\tEl Misti\n",
            "\n",
            "El lugar favorito de Jose es:\n",
            "\tEl colca\n",
            "\tCerro Azul\n",
            "\tEl huascarán\n",
            "\n",
            "El lugar favorito de Josselyn es:\n",
            "\tParacas\n"
          ]
        }
      ]
    },
    {
      "cell_type": "markdown",
      "source": [
        "####Ejercicio 19\n",
        "\n",
        "Haz un diccionario llamado ciudades. Usa los nombres de tres ciudades como llaves en tu diccionario. Cree un diccionario de información sobre cada ciudad e incluya el país en el que se encuentra la ciudad, su población aproximada y un dato sobre esa ciudad. Las claves para el diccionario de cada ciudad deben ser algo como país, población y hecho. Imprime el nombre de cada ciudad y toda la información que tengas almacenada sobre ella."
      ],
      "metadata": {
        "id": "DxO8u-2R-e36"
      }
    },
    {
      "cell_type": "code",
      "source": [
        "# CREAMOS UN DICCIONARIO CON CLAVES 'Huanta', 'Cusco' Y 'Chincha Alta'. TAMBIÉN LE ASIGNAMOS UN VALOR A CADA CLAVE.\n",
        "# EL VALOR DE CADA CLAVE ES UN DICCIONARIO CON CLAVES 'País', 'Población' Y 'Dato'.\n",
        "ciudades = {'Huanta':{'País':'Perú', 'Población':'47 373 habitantes', 'Dato':'Por su clima cálido templado es conocida como \"La esmeralda de los Andes\".'},\n",
        "            'Cusco':{'País':'Perú', 'Población':'118 316 habitantes', 'Dato':'Es reconocida como la \"Capital Arqueológica de América\".'},\n",
        "            'Chincha Alta':{'País':'Perú', 'Población':'63 671 habitantes', 'Dato':'Es la decimoquinta ciudad más poblada del Perú.'}}\n",
        "\n",
        "# USAMOS UN BUCLE FOR PARA REALIZAR UN LOOP AL DICCIONARIO 'ciudades'.\n",
        "for ciudad, informacion in ciudades.items():\n",
        "\n",
        "  # IMPRIMIMOS UN MENSAJE Y MOSTRAMOS LOS VALORES GUARDADOS EN 'ciudad' QUE SERÍA LA CLAVE DEL DICCIONARIO.\n",
        "  print(f\"\\nInformación sobre la ciudad de {ciudad}:\")\n",
        "\n",
        "  # IMPRIMIMOS LOS VALORES GUARDADOS EN 'informacion' QUE ESTÁ ASIGNADO A UNA CLAVE DEL DICCIONARIO 'ciudades'. 'informacion' ES UN DICCIONARIO CON CLAVES Y VALORES.\n",
        "  print(f\"\\n{informacion}\")"
      ],
      "metadata": {
        "id": "hLxTJJI_-q1W",
        "outputId": "243e948a-b7a3-468d-c017-99d179af467a",
        "colab": {
          "base_uri": "https://localhost:8080/"
        }
      },
      "execution_count": null,
      "outputs": [
        {
          "output_type": "stream",
          "name": "stdout",
          "text": [
            "\n",
            "Información sobre la ciudad de Huanta:\n",
            "\n",
            "{'País': 'Perú', 'Población': '47 373 habitantes', 'Dato': 'Por su clima cálido templado es conocida como \"La esmeralda de los Andes\".'}\n",
            "\n",
            "Información sobre la ciudad de Cusco:\n",
            "\n",
            "{'País': 'Perú', 'Población': '118 316 habitantes', 'Dato': 'Es reconocida como la \"Capital Arqueológica de América\".'}\n",
            "\n",
            "Información sobre la ciudad de Chincha Alta:\n",
            "\n",
            "{'País': 'Perú', 'Población': '63 671 habitantes', 'Dato': 'Es la decimoquinta ciudad más poblada del Perú.'}\n"
          ]
        }
      ]
    },
    {
      "cell_type": "markdown",
      "source": [
        "####Ejercicio 20\n",
        "\n",
        "Ahora estamos trabajando con ejemplos que son lo suficientemente complejos como para que puedan extenderse de varias maneras. Utilice uno de los programas de este laboratorio y amplíelo agregando nuevas claves y valores, cambiando el contexto del programa o mejorando el formato de la salida."
      ],
      "metadata": {
        "id": "Z4lV2ETvAeuj"
      }
    },
    {
      "cell_type": "code",
      "source": [
        "# CREAMOS UN DICCIONARIO CON CLAVES 'Raul', 'Jose' Y 'Josselyn'. TAMBIÉN LE ASIGNAMOS UN VALOR A CADA CLAVE, PERO EN ESTE CASO EL VALOR PUEDE SER UNA LISTA CON UNO O MUCHOS ELEMENTOS.\n",
        "lugares_favoritos_2 = {'Raul' : ['Macchu Picchu','El Misti'], \n",
        "                     'Jose' : ['El colca','Cerro Azul','El huascarán'], \n",
        "                     'Josselyn': ['Paracas']}"
      ],
      "metadata": {
        "id": "8CNG80awVKyL"
      },
      "execution_count": null,
      "outputs": []
    },
    {
      "cell_type": "code",
      "source": [
        "# IMPRIMIMOS UN MENSAJE.\n",
        "print(\"**********************************************************\")\n",
        "print(\"**** BASE DE DATOS DE LUGARES FAVORITOS DE MIS AMIGOS ****\")\n",
        "print(\"**********************************************************\")\n",
        "\n",
        "# USAMOS UN CICLO WHILE QUE SIEMPRE ESTARÁ ACTIVO.\n",
        "while True:\n",
        "\n",
        "  # CREAMOS LA VARIABLE 'opcion' QUE GUARDARÁ LOS VALORES INGRESADOS POR TECLADO.\n",
        "  opcion = input(\"\\nBienvenido, que acción desea realizar el día de hoy (1:Consulta / 2:Agregar / 3:Salir): \")\n",
        "\n",
        "  # CREAMOS UNA CONDICIÓN 'if'. SI EL VALOR DE LA VARIABLE 'opcion' ES IGUAL A '1', CUMPLE CON ESTA CONDICIÓN.\n",
        "  if opcion == \"1\":\n",
        "    \n",
        "    # IMPRIMIMOS UN MENSAJE.\n",
        "    print(\"\\n*********************** CONSULTA ***********************\")\n",
        "    \n",
        "    # USAMOS UN BUCLE FOR PARA REALIZAR UN LOOP AL DICCIONARIO 'lugares_favoritos_2'.\n",
        "    for nombre, lugar_favorito in lugares_favoritos_2.items():\n",
        "\n",
        "      # IMPRIMIMOS UN MENSAJE Y MOSTRAMOS LOS VALORES GUARDADOS EN 'nombre' QUE SERÍA LA CLAVE DEL DICCIONARIO.  \n",
        "      print(f\"\\nEl lugar favorito de {nombre} es:\")\n",
        "\n",
        "      # USAMOS UN BUCLE FOR PARA RECORRER LOS ELEMENTOS DE 'lugar_favorito' DEL DICCIONARIO 'lugares_favoritos'. 'lugar_favorito' ES TRATADO POR EL BUCLE FOR COMO UNA LISTA.\n",
        "      for lugar in lugar_favorito:\n",
        "\n",
        "        # IMPRIMIMOS LOS ELEMENTOS DE 'lugar_favorito'.  \n",
        "        print(f\"\\t{lugar}\")\n",
        "\n",
        "  # CREAMOS UNA CONDICIÓN 'if'. SI EL VALOR DE LA VARIABLE 'opcion' ES IGUAL A '2', CUMPLE CON ESTA CONDICIÓN.\n",
        "  if opcion == \"2\":\n",
        "\n",
        "    # IMPRIMIMOS UN MENSAJE.\n",
        "    print(\"\\n******** AGREGAR AMIGO Y SUS LUGARES FAVORITOS ********\")\n",
        "    \n",
        "    # CREAMOS LA VARIABLE 'agregar' QUE GUARDARÁ LOS VALORES INGRESADOS POR TECLADO.\n",
        "    agregar = input(\"\\nNombre: \")\n",
        "\n",
        "    # CREAMOS LA VARIABLE 'cant' QUE GUARDARÁ LOS VALORES INGRESADOS POR TECLADO.\n",
        "    cant = input(\"\\nCuántos lugares favoritos va ha registrar (Max. 3): \")\n",
        "\n",
        "    # CREAMOS UNA CONDICIÓN 'if'. SI EL VALOR DE LA VARIABLE 'cant' ES IGUAL A '1', CUMPLE CON ESTA CONDICIÓN.\n",
        "    if cant == \"1\":\n",
        "\n",
        "      # CREAMOS LA VARIABLE 'lugar_1' QUE GUARDARÁ LOS VALORES INGRESADOS POR TECLADO.\n",
        "      lugar_1 = input(\"\\nPrimer lugar favorito: \")\n",
        "\n",
        "      # CREAREMOS UN CLAVE PARA EL DICCIONARIO CON LA VARIABLE 'agregar' Y CON LA VARIABLE 'lugar_1', UNA LISTA DE UN ELEMENTO COMO VALOR DE LA CLAVE DEL DICCIONARIO.\n",
        "      lugares_favoritos_2 [agregar] = [lugar_1]\n",
        "\n",
        "      # IMPRIMIMOS UN MENSAJE.\n",
        "      print(\"\\nLa información ha sido registrada!!!\")\n",
        "\n",
        "    # CREAMOS UNA CONDICIÓN 'if'. SI EL VALOR DE LA VARIABLE 'cant' ES IGUAL A '2', CUMPLE CON ESTA CONDICIÓN.\n",
        "    elif cant == \"2\":\n",
        "\n",
        "      # CREAMOS LA VARIABLE 'lugar_1' QUE GUARDARÁ LOS VALORES INGRESADOS POR TECLADO.\n",
        "      lugar_1 = input(\"\\nPrimer lugar favorito: \")\n",
        "\n",
        "      # CREAMOS LA VARIABLE 'lugar_2' QUE GUARDARÁ LOS VALORES INGRESADOS POR TECLADO.\n",
        "      lugar_2 = input(\"Segundo lugar favorito: \")\n",
        "\n",
        "      # CREAREMOS UN CLAVE PARA EL DICCIONARIO CON LA VARIABLE 'agregar' Y CON LAS VARIABLES 'lugar_1' Y 'lugar_2', UNA LISTA DE DOS ELEMENTOS COMO VALOR DE LA CLAVE DEL DICCIONARIO.\n",
        "      lugares_favoritos_2 [agregar] = [lugar_1, lugar_2]\n",
        "\n",
        "      # IMPRIMIMOS UN MENSAJE.\n",
        "      print(\"\\nLa información ha sido registrada!!!\")\n",
        "    \n",
        "    # CREAMOS UNA CONDICIÓN 'if'. SI EL VALOR DE LA VARIABLE 'cant' ES IGUAL A '3', CUMPLE CON ESTA CONDICIÓN.\n",
        "    elif cant == \"3\":\n",
        "\n",
        "      # CREAMOS LA VARIABLE 'lugar_1' QUE GUARDARÁ LOS VALORES INGRESADOS POR TECLADO.\n",
        "      lugar_1 = input(\"\\nPrimer lugar favorito: \")\n",
        "\n",
        "      # CREAMOS LA VARIABLE 'lugar_2' QUE GUARDARÁ LOS VALORES INGRESADOS POR TECLADO.\n",
        "      lugar_2 = input(\"Segundo lugar favorito: \")\n",
        "\n",
        "      # CREAMOS LA VARIABLE 'lugar_3' QUE GUARDARÁ LOS VALORES INGRESADOS POR TECLADO.\n",
        "      lugar_3 = input(\"Tercer lugar favorito: \")\n",
        "\n",
        "      # CREAREMOS UN CLAVE PARA EL DICCIONARIO CON LA VARIABLE 'agregar' Y CON LAS VARIABLES 'lugar_1', 'lugar_2' Y 'lugar_3', UNA LISTA DE TRES ELEMENTOS COMO VALOR DE LA CLAVE DEL DICCIONARIO.\n",
        "      lugares_favoritos_2 [agregar] = [lugar_1, lugar_2, lugar_3]\n",
        "\n",
        "      # IMPRIMIMOS UN MENSAJE.\n",
        "      print(\"\\nLa información ha sido registrada!!!\")\n",
        "    \n",
        "    # SI NO CUMPLE CON NINGUNA CONDICIÓN.  \n",
        "    else:\n",
        "      \n",
        "      # IMPRIMIMOS UN MENSAJE.\n",
        "      print(\"\\nLa plataforma solo acepta hasta 3 lugares. Vuelva a intentarlo.\\n\")\n",
        "\n",
        "  # CREAMOS UNA CONDICIÓN 'if'. SI EL VALOR DE LA VARIABLE 'opcion' ES IGUAL A '3', CUMPLE CON ESTA CONDICIÓN.\n",
        "  if opcion == \"3\":\n",
        "\n",
        "    # IMPRIMIMOS UN MENSAJE.\n",
        "    print(\"\\nGracias, vuelva pronto!!!\")\n",
        "\n",
        "    # SE EJECUTARÁ UN 'break' PARA FINALIZAR EL CICLO WHILE.\n",
        "    break"
      ],
      "metadata": {
        "id": "TvEdXLdcRPnp",
        "outputId": "d8f8f557-2c8b-4638-f118-fbbe0011347b",
        "colab": {
          "base_uri": "https://localhost:8080/"
        }
      },
      "execution_count": null,
      "outputs": [
        {
          "output_type": "stream",
          "name": "stdout",
          "text": [
            "**********************************************************\n",
            "**** BASE DE DATOS DE LUGARES FAVORITOS DE MIS AMIGOS ****\n",
            "**********************************************************\n",
            "\n",
            "Bienvenido, que acción desea realizar el día de hoy (1:Consulta / 2:Agregar / 3:Salir): 1\n",
            "\n",
            "*********************** CONSULTA ***********************\n",
            "\n",
            "El lugar favorito de Raul es:\n",
            "\tMacchu Picchu\n",
            "\tEl Misti\n",
            "\n",
            "El lugar favorito de Jose es:\n",
            "\tEl colca\n",
            "\tCerro Azul\n",
            "\tEl huascarán\n",
            "\n",
            "El lugar favorito de Josselyn es:\n",
            "\tParacas\n",
            "\n",
            "El lugar favorito de Abel es:\n",
            "\tLima\n",
            "\tTacna\n",
            "\n",
            "El lugar favorito de Francis es:\n",
            "\tLima\n",
            "\tTacna\n",
            "\n",
            "Bienvenido, que acción desea realizar el día de hoy (1:Consulta / 2:Agregar / 3:Salir): 2\n",
            "\n",
            "******** AGREGAR AMIGO Y SUS LUGARES FAVORITOS ********\n",
            "\n",
            "Nombre: Samuel\n",
            "\n",
            "Cuántos lugares favoritos va ha registrar (Max. 3): 2\n",
            "\n",
            "Primer lugar favorito: Francia\n",
            "Segundo lugar favorito: España\n",
            "\n",
            "La información ha sido registrada!!!\n",
            "\n",
            "Bienvenido, que acción desea realizar el día de hoy (1:Consulta / 2:Agregar / 3:Salir): 1\n",
            "\n",
            "*********************** CONSULTA ***********************\n",
            "\n",
            "El lugar favorito de Raul es:\n",
            "\tMacchu Picchu\n",
            "\tEl Misti\n",
            "\n",
            "El lugar favorito de Jose es:\n",
            "\tEl colca\n",
            "\tCerro Azul\n",
            "\tEl huascarán\n",
            "\n",
            "El lugar favorito de Josselyn es:\n",
            "\tParacas\n",
            "\n",
            "El lugar favorito de Abel es:\n",
            "\tLima\n",
            "\tTacna\n",
            "\n",
            "El lugar favorito de Francis es:\n",
            "\tLima\n",
            "\tTacna\n",
            "\n",
            "El lugar favorito de Samuel es:\n",
            "\tFrancia\n",
            "\tEspaña\n",
            "\n",
            "Bienvenido, que acción desea realizar el día de hoy (1:Consulta / 2:Agregar / 3:Salir): 3\n",
            "\n",
            "Gracias, vuelva pronto!!!\n"
          ]
        }
      ]
    }
  ]
}